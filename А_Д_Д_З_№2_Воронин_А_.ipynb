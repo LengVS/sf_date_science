{
  "nbformat": 4,
  "nbformat_minor": 0,
  "metadata": {
    "colab": {
      "provenance": [],
      "authorship_tag": "ABX9TyOpqI9Twdz2uD0ZTnQrT1fz",
      "include_colab_link": true
    },
    "kernelspec": {
      "name": "python3",
      "display_name": "Python 3"
    },
    "language_info": {
      "name": "python"
    }
  },
  "cells": [
    {
      "cell_type": "markdown",
      "metadata": {
        "id": "view-in-github",
        "colab_type": "text"
      },
      "source": [
        "<a href=\"https://colab.research.google.com/github/LengVS/sf_date_science/blob/main/%D0%90_%D0%94_%D0%94_%D0%97_%E2%84%962_%D0%92%D0%BE%D1%80%D0%BE%D0%BD%D0%B8%D0%BD_%D0%90_.ipynb\" target=\"_parent\"><img src=\"https://colab.research.google.com/assets/colab-badge.svg\" alt=\"Open In Colab\"/></a>"
      ]
    },
    {
      "cell_type": "code",
      "execution_count": 84,
      "metadata": {
        "colab": {
          "base_uri": "https://localhost:8080/"
        },
        "id": "3ykZzPiL1eCG",
        "outputId": "85bb6136-fc8a-4838-c4b8-f496e32ef259"
      },
      "outputs": [
        {
          "output_type": "stream",
          "name": "stdout",
          "text": [
            "Downloaded home work_data/atp_matches_1968.csv\n",
            "Downloaded home work_data/atp_matches_1968.csv\n",
            "Downloaded home work_data/atp_matches_1969.csv\n",
            "Downloaded home work_data/atp_matches_1969.csv\n",
            "Downloaded home work_data/atp_matches_1970.csv\n",
            "Downloaded home work_data/atp_matches_1970.csv\n",
            "Downloaded home work_data/atp_matches_1971.csv\n",
            "Downloaded home work_data/atp_matches_1971.csv\n",
            "Downloaded home work_data/atp_matches_1972.csv\n",
            "Downloaded home work_data/atp_matches_1972.csv\n",
            "Downloaded home work_data/atp_matches_1973.csv\n",
            "Downloaded home work_data/atp_matches_1973.csv\n",
            "Downloaded home work_data/atp_matches_1974.csv\n",
            "Downloaded home work_data/atp_matches_1974.csv\n",
            "Downloaded home work_data/atp_matches_1975.csv\n",
            "Downloaded home work_data/atp_matches_1975.csv\n",
            "Downloaded home work_data/atp_matches_1976.csv\n",
            "Downloaded home work_data/atp_matches_1976.csv\n",
            "Downloaded home work_data/atp_matches_1977.csv\n",
            "Downloaded home work_data/atp_matches_1977.csv\n",
            "Downloaded home work_data/atp_matches_1978.csv\n",
            "Downloaded home work_data/atp_matches_1978.csv\n",
            "Downloaded home work_data/atp_matches_1979.csv\n",
            "Downloaded home work_data/atp_matches_1979.csv\n",
            "Downloaded home work_data/atp_matches_1980.csv\n",
            "Downloaded home work_data/atp_matches_1980.csv\n",
            "Downloaded home work_data/atp_matches_1981.csv\n",
            "Downloaded home work_data/atp_matches_1981.csv\n",
            "Downloaded home work_data/atp_matches_1982.csv\n",
            "Downloaded home work_data/atp_matches_1982.csv\n",
            "Downloaded home work_data/atp_matches_1983.csv\n",
            "Downloaded home work_data/atp_matches_1983.csv\n",
            "Downloaded home work_data/atp_matches_1984.csv\n",
            "Downloaded home work_data/atp_matches_1984.csv\n",
            "Downloaded home work_data/atp_matches_1985.csv\n",
            "Downloaded home work_data/atp_matches_1985.csv\n",
            "Downloaded home work_data/atp_matches_1986.csv\n",
            "Downloaded home work_data/atp_matches_1986.csv\n",
            "Downloaded home work_data/atp_matches_1987.csv\n",
            "Downloaded home work_data/atp_matches_1987.csv\n",
            "Downloaded home work_data/atp_matches_1988.csv\n",
            "Downloaded home work_data/atp_matches_1988.csv\n",
            "Downloaded home work_data/atp_matches_1989.csv\n",
            "Downloaded home work_data/atp_matches_1989.csv\n",
            "Downloaded home work_data/atp_matches_1990.csv\n",
            "Downloaded home work_data/atp_matches_1990.csv\n",
            "Downloaded home work_data/atp_matches_1991.csv\n",
            "Downloaded home work_data/atp_matches_1991.csv\n",
            "Downloaded home work_data/atp_matches_1992.csv\n",
            "Downloaded home work_data/atp_matches_1992.csv\n",
            "Downloaded home work_data/atp_matches_1993.csv\n",
            "Downloaded home work_data/atp_matches_1993.csv\n",
            "Downloaded home work_data/atp_matches_1994.csv\n",
            "Downloaded home work_data/atp_matches_1994.csv\n",
            "Downloaded home work_data/atp_matches_1995.csv\n",
            "Downloaded home work_data/atp_matches_1995.csv\n",
            "Downloaded home work_data/atp_matches_1996.csv\n",
            "Downloaded home work_data/atp_matches_1996.csv\n",
            "Downloaded home work_data/atp_matches_1997.csv\n",
            "Downloaded home work_data/atp_matches_1997.csv\n",
            "Downloaded home work_data/atp_matches_1998.csv\n",
            "Downloaded home work_data/atp_matches_1998.csv\n",
            "Downloaded home work_data/atp_matches_1999.csv\n",
            "Downloaded home work_data/atp_matches_1999.csv\n",
            "Downloaded home work_data/atp_matches_2000.csv\n",
            "Downloaded home work_data/atp_matches_2000.csv\n",
            "Downloaded home work_data/atp_matches_2001.csv\n",
            "Downloaded home work_data/atp_matches_2001.csv\n",
            "Downloaded home work_data/atp_matches_2002.csv\n",
            "Downloaded home work_data/atp_matches_2002.csv\n",
            "Downloaded home work_data/atp_matches_2003.csv\n",
            "Downloaded home work_data/atp_matches_2003.csv\n",
            "Downloaded home work_data/atp_matches_2004.csv\n",
            "Downloaded home work_data/atp_matches_2004.csv\n",
            "Downloaded home work_data/atp_matches_2005.csv\n",
            "Downloaded home work_data/atp_matches_2005.csv\n",
            "Downloaded home work_data/atp_matches_2006.csv\n",
            "Downloaded home work_data/atp_matches_2006.csv\n",
            "Downloaded home work_data/atp_matches_2007.csv\n",
            "Downloaded home work_data/atp_matches_2007.csv\n",
            "Downloaded home work_data/atp_matches_2008.csv\n",
            "Downloaded home work_data/atp_matches_2008.csv\n",
            "Downloaded home work_data/atp_matches_2009.csv\n",
            "Downloaded home work_data/atp_matches_2009.csv\n",
            "Downloaded home work_data/atp_matches_2010.csv\n",
            "Downloaded home work_data/atp_matches_2010.csv\n",
            "Downloaded home work_data/atp_matches_2011.csv\n",
            "Downloaded home work_data/atp_matches_2011.csv\n",
            "Downloaded home work_data/atp_matches_2012.csv\n",
            "Downloaded home work_data/atp_matches_2012.csv\n",
            "Downloaded home work_data/atp_matches_2013.csv\n",
            "Downloaded home work_data/atp_matches_2013.csv\n",
            "Downloaded home work_data/atp_matches_2014.csv\n",
            "Downloaded home work_data/atp_matches_2014.csv\n",
            "Downloaded home work_data/atp_matches_2015.csv\n",
            "Downloaded home work_data/atp_matches_2015.csv\n",
            "Downloaded home work_data/atp_matches_2016.csv\n",
            "Downloaded home work_data/atp_matches_2016.csv\n",
            "Downloaded home work_data/atp_matches_2017.csv\n",
            "Downloaded home work_data/atp_matches_2017.csv\n",
            "Downloaded home work_data/atp_matches_2018.csv\n",
            "Downloaded home work_data/atp_matches_2018.csv\n",
            "Downloaded home work_data/atp_matches_2019.csv\n",
            "Downloaded home work_data/atp_matches_2019.csv\n",
            "Downloaded home work_data/atp_matches_2020.csv\n",
            "Downloaded home work_data/atp_matches_2020.csv\n",
            "Downloaded home work_data/atp_matches_2021.csv\n",
            "Downloaded home work_data/atp_matches_2021.csv\n",
            "Downloaded home work_data/atp_matches_2022.csv\n",
            "Downloaded home work_data/atp_matches_2022.csv\n",
            "Downloaded home work_data/atp_matches_2023.csv\n",
            "Downloaded home work_data/atp_matches_2023.csv\n"
          ]
        }
      ],
      "source": [
        "# Импортируем все необходимые библиотеки которые нам могут понадобиться\n",
        "import pandas as pd\n",
        "import numpy as np\n",
        "import matplotlib.pyplot as plt\n",
        "import seaborn as sns\n",
        "import requests\n",
        "from bs4 import BeautifulSoup\n",
        "import re\n",
        "import os\n",
        "import glob\n",
        "import matplotlib.pyplot as plt\n",
        "from scipy import stats\n",
        "from scipy.stats import shapiro\n",
        "from scipy.stats import mannwhitneyu\n",
        "import urllib.request\n",
        "import statistics\n",
        "\n",
        "## Загружаем Датасет\n",
        "\n",
        "# URL репозитория\n",
        "repo = 'https://github.com/JeffSackmann/tennis_atp'\n",
        "\n",
        "# Создаем переменную, в которой указываем путь к папке с файлами\n",
        "folder_path = 'blob/master/'\n",
        "\n",
        "# Создаем переменную, в которой указываем путь к директории для сохранения файлов\n",
        "save_dir = 'home work_data'\n",
        "\n",
        "# Создаем директорию, если она не существует\n",
        "if not os.path.exists(save_dir):\n",
        "    os.makedirs(save_dir)\n",
        "\n",
        "# Создаем сессию requests\n",
        "with requests.Session() as session:\n",
        "    # Получаем страницу репозитория с файлами\n",
        "    rep = session.get(f'{repo}/{folder_path}')\n",
        "    if rep.ok:\n",
        "        # Используем BeautifulSoup для парсинга HTML\n",
        "        soup = BeautifulSoup(rep.text, 'html.parser')\n",
        "\n",
        "        # Ищем все ссылки на csv файлы, которые соответствуют маске\n",
        "        regex = re.compile(r'atp_matches_\\d{4}\\.csv')\n",
        "        for a in soup.find_all('a', href=True):\n",
        "            if regex.match(a.text):\n",
        "                # Строим URL файла\n",
        "                file_url = f'https://github.com{a[\"href\"]}'\n",
        "                # Превращаем ссылку на просмотр в ссылку на скачивание\n",
        "                raw_url = file_url.replace('/blob/', '/raw/')\n",
        "                # Скачиваем файл\n",
        "                file_rep = session.get(raw_url)\n",
        "                if file_rep.ok:\n",
        "                    # Сохраняем содержимое файла\n",
        "                    file_name = os.path.join(save_dir, a.text)\n",
        "                    with open(file_name, 'wb') as file:\n",
        "                        file.write(file_rep.content)\n",
        "                        print(f'Downloaded {file_name}')\n",
        "                else:\n",
        "                    print(f'Failed to download {a.text}')\n",
        "    else:\n",
        "        print('Failed to retrieve the repository page')"
      ]
    },
    {
      "cell_type": "code",
      "source": [
        "## Проводим предобработку данных\n",
        "\n",
        "# Объеденяем весь датасет в один\n",
        "\n",
        "# Создаем переменную, в которой указываем путь к файлам\n",
        "file = '/content/home work_data/'\n",
        "file_names = glob.glob(file + \"/*.csv\")\n",
        "\n",
        "dfs = []\n",
        "for filename in file_names:\n",
        "    dfs.append(pd.read_csv(filename))\n",
        "\n",
        "# Объединяем все данные\n",
        "big_date = pd.concat(dfs, ignore_index=True)\n",
        "\n",
        "# Удаляем пропуски в данных\n",
        "new_data = big_date.copy()\n",
        "new_data = new_data.dropna(subset=['winner_rank', 'loser_rank'], axis=0)\n",
        "\n",
        "print(big_date)\n",
        "print(new_data)"
      ],
      "metadata": {
        "colab": {
          "base_uri": "https://localhost:8080/"
        },
        "id": "CJ6pWNzw8mWk",
        "outputId": "94473aac-5339-4841-a031-0e3e9d5161b0"
      },
      "execution_count": 16,
      "outputs": [
        {
          "output_type": "stream",
          "name": "stdout",
          "text": [
            "       tourney_id    tourney_name surface  draw_size tourney_level  \\\n",
            "0        1988-201         Guaruja    Hard       32.0             A   \n",
            "1        1988-201         Guaruja    Hard       32.0             A   \n",
            "2        1988-201         Guaruja    Hard       32.0             A   \n",
            "3        1988-201         Guaruja    Hard       32.0             A   \n",
            "4        1988-201         Guaruja    Hard       32.0             A   \n",
            "...           ...             ...     ...        ...           ...   \n",
            "191915   1991-604  Grand Slam Cup  Carpet       16.0             A   \n",
            "191916   1991-604  Grand Slam Cup  Carpet       16.0             A   \n",
            "191917   1991-604  Grand Slam Cup  Carpet       16.0             A   \n",
            "191918   1991-604  Grand Slam Cup  Carpet       16.0             A   \n",
            "191919   1991-604  Grand Slam Cup  Carpet       16.0             A   \n",
            "\n",
            "        tourney_date  match_num  winner_id  winner_seed winner_entry  ...  \\\n",
            "0           19880125          1     100586          1.0          NaN  ...   \n",
            "1           19880125          2     101133          NaN          NaN  ...   \n",
            "2           19880125          3     100669          NaN          NaN  ...   \n",
            "3           19880125          4     100782          8.0          NaN  ...   \n",
            "4           19880125          5     101318          4.0          NaN  ...   \n",
            "...              ...        ...        ...          ...          ...  ...   \n",
            "191915      19911210         11     100656          4.0          NaN  ...   \n",
            "191916      19911210         12     102021          NaN          NaN  ...   \n",
            "191917      19911210         13     101609          7.0          NaN  ...   \n",
            "191918      19911210         14     102021          NaN          NaN  ...   \n",
            "191919      19911210         15     101609          7.0          NaN  ...   \n",
            "\n",
            "       l_1stIn l_1stWon  l_2ndWon l_SvGms  l_bpSaved  l_bpFaced  winner_rank  \\\n",
            "0          NaN      NaN       NaN     NaN        NaN        NaN         22.0   \n",
            "1          NaN      NaN       NaN     NaN        NaN        NaN        182.0   \n",
            "2          NaN      NaN       NaN     NaN        NaN        NaN        232.0   \n",
            "3          NaN      NaN       NaN     NaN        NaN        NaN        139.0   \n",
            "4          NaN      NaN       NaN     NaN        NaN        NaN        138.0   \n",
            "...        ...      ...       ...     ...        ...        ...          ...   \n",
            "191915     NaN      NaN       NaN     NaN        NaN        NaN          5.0   \n",
            "191916     NaN      NaN       NaN     NaN        NaN        NaN         15.0   \n",
            "191917     NaN      NaN       NaN     NaN        NaN        NaN         17.0   \n",
            "191918     NaN      NaN       NaN     NaN        NaN        NaN         15.0   \n",
            "191919     NaN      NaN       NaN     NaN        NaN        NaN         17.0   \n",
            "\n",
            "       winner_rank_points loser_rank loser_rank_points  \n",
            "0                     NaN      251.0               NaN  \n",
            "1                     NaN      317.0               NaN  \n",
            "2                     NaN      205.0               NaN  \n",
            "3                     NaN      190.0               NaN  \n",
            "4                     NaN      157.0               NaN  \n",
            "...                   ...        ...               ...  \n",
            "191915                NaN       20.0               NaN  \n",
            "191916                NaN       36.0               NaN  \n",
            "191917                NaN        4.0               NaN  \n",
            "191918                NaN        5.0               NaN  \n",
            "191919                NaN       15.0               NaN  \n",
            "\n",
            "[191920 rows x 49 columns]\n",
            "       tourney_id    tourney_name surface  draw_size tourney_level  \\\n",
            "0        1988-201         Guaruja    Hard       32.0             A   \n",
            "1        1988-201         Guaruja    Hard       32.0             A   \n",
            "2        1988-201         Guaruja    Hard       32.0             A   \n",
            "3        1988-201         Guaruja    Hard       32.0             A   \n",
            "4        1988-201         Guaruja    Hard       32.0             A   \n",
            "...           ...             ...     ...        ...           ...   \n",
            "191915   1991-604  Grand Slam Cup  Carpet       16.0             A   \n",
            "191916   1991-604  Grand Slam Cup  Carpet       16.0             A   \n",
            "191917   1991-604  Grand Slam Cup  Carpet       16.0             A   \n",
            "191918   1991-604  Grand Slam Cup  Carpet       16.0             A   \n",
            "191919   1991-604  Grand Slam Cup  Carpet       16.0             A   \n",
            "\n",
            "        tourney_date  match_num  winner_id  winner_seed winner_entry  ...  \\\n",
            "0           19880125          1     100586          1.0          NaN  ...   \n",
            "1           19880125          2     101133          NaN          NaN  ...   \n",
            "2           19880125          3     100669          NaN          NaN  ...   \n",
            "3           19880125          4     100782          8.0          NaN  ...   \n",
            "4           19880125          5     101318          4.0          NaN  ...   \n",
            "...              ...        ...        ...          ...          ...  ...   \n",
            "191915      19911210         11     100656          4.0          NaN  ...   \n",
            "191916      19911210         12     102021          NaN          NaN  ...   \n",
            "191917      19911210         13     101609          7.0          NaN  ...   \n",
            "191918      19911210         14     102021          NaN          NaN  ...   \n",
            "191919      19911210         15     101609          7.0          NaN  ...   \n",
            "\n",
            "       l_1stIn l_1stWon  l_2ndWon l_SvGms  l_bpSaved  l_bpFaced  winner_rank  \\\n",
            "0          NaN      NaN       NaN     NaN        NaN        NaN         22.0   \n",
            "1          NaN      NaN       NaN     NaN        NaN        NaN        182.0   \n",
            "2          NaN      NaN       NaN     NaN        NaN        NaN        232.0   \n",
            "3          NaN      NaN       NaN     NaN        NaN        NaN        139.0   \n",
            "4          NaN      NaN       NaN     NaN        NaN        NaN        138.0   \n",
            "...        ...      ...       ...     ...        ...        ...          ...   \n",
            "191915     NaN      NaN       NaN     NaN        NaN        NaN          5.0   \n",
            "191916     NaN      NaN       NaN     NaN        NaN        NaN         15.0   \n",
            "191917     NaN      NaN       NaN     NaN        NaN        NaN         17.0   \n",
            "191918     NaN      NaN       NaN     NaN        NaN        NaN         15.0   \n",
            "191919     NaN      NaN       NaN     NaN        NaN        NaN         17.0   \n",
            "\n",
            "       winner_rank_points loser_rank loser_rank_points  \n",
            "0                     NaN      251.0               NaN  \n",
            "1                     NaN      317.0               NaN  \n",
            "2                     NaN      205.0               NaN  \n",
            "3                     NaN      190.0               NaN  \n",
            "4                     NaN      157.0               NaN  \n",
            "...                   ...        ...               ...  \n",
            "191915                NaN       20.0               NaN  \n",
            "191916                NaN       36.0               NaN  \n",
            "191917                NaN        4.0               NaN  \n",
            "191918                NaN        5.0               NaN  \n",
            "191919                NaN       15.0               NaN  \n",
            "\n",
            "[143860 rows x 49 columns]\n"
          ]
        }
      ]
    },
    {
      "cell_type": "code",
      "source": [
        "### Задание 1а\n",
        "\n",
        "# Сформируем две выборки игроков: первая выборка - игроки с рангом, отличающимся более чем на 20 позиций от противника, вторая - игроки с близким рангом к противнику (отличие менее 20 позиций)\n",
        "df_rank_1 = abs(new_data['winner_rank'] - new_data['loser_rank']) > 20\n",
        "df_rank_2 = abs(new_data['winner_rank'] - new_data['loser_rank']) <= 20\n",
        "\n",
        "print(df_rank_1)\n",
        "print(df_rank_2)"
      ],
      "metadata": {
        "colab": {
          "base_uri": "https://localhost:8080/"
        },
        "id": "I7ueapV0Cllp",
        "outputId": "049109ab-d175-463a-b6e0-d3925e7b8b5c"
      },
      "execution_count": 17,
      "outputs": [
        {
          "output_type": "stream",
          "name": "stdout",
          "text": [
            "0          True\n",
            "1          True\n",
            "2          True\n",
            "3          True\n",
            "4         False\n",
            "          ...  \n",
            "191915    False\n",
            "191916     True\n",
            "191917    False\n",
            "191918    False\n",
            "191919    False\n",
            "Length: 143860, dtype: bool\n",
            "0         False\n",
            "1         False\n",
            "2         False\n",
            "3         False\n",
            "4          True\n",
            "          ...  \n",
            "191915     True\n",
            "191916    False\n",
            "191917     True\n",
            "191918     True\n",
            "191919     True\n",
            "Length: 143860, dtype: bool\n"
          ]
        }
      ]
    },
    {
      "cell_type": "code",
      "source": [
        "# создаем переменные с выборками игроков по рангам\n",
        "higher_rank_win = new_data[df_rank_1]\n",
        "loser_rank_win = new_data[df_rank_2]\n",
        "\n",
        "# создаем новые таблицы с номером игрока и количеством его побед\n",
        "new_table_rank_1 = (higher_rank_win\n",
        ".groupby(['winner_id'])\n",
        ".agg({'match_num':'count'})\n",
        ".reset_index()\n",
        ".rename(columns={'match_num': 'victory_count'})\n",
        ".sort_values(by='victory_count', ascending=False))\n",
        "\n",
        "new_table_rank_2 = (loser_rank_win\n",
        ".groupby(['winner_id'])\n",
        ".agg({'match_num':'count'})\n",
        ".reset_index()\n",
        ".rename(columns={'match_num': 'victory_count'})\n",
        ".sort_values(by='victory_count', ascending=False))\n",
        "\n",
        "print(new_table_rank_1)\n",
        "print(new_table_rank_2)"
      ],
      "metadata": {
        "colab": {
          "base_uri": "https://localhost:8080/"
        },
        "id": "6Dj98gdURMzd",
        "outputId": "91b796df-10c4-4830-9693-6c4b01fba55a"
      },
      "execution_count": 18,
      "outputs": [
        {
          "output_type": "stream",
          "name": "stdout",
          "text": [
            "      winner_id  victory_count\n",
            "1564     103819            821\n",
            "1824     104745            694\n",
            "1872     104925            661\n",
            "384      100656            626\n",
            "919      101736            614\n",
            "...         ...            ...\n",
            "1649     104091              1\n",
            "1655     104121              1\n",
            "1658     104138              1\n",
            "1660     104149              1\n",
            "2602     212051              1\n",
            "\n",
            "[2603 rows x 2 columns]\n",
            "      winner_id  victory_count\n",
            "973      103819            441\n",
            "1118     104925            437\n",
            "1099     104745            385\n",
            "309      100656            325\n",
            "156      100284            277\n",
            "...         ...            ...\n",
            "362      100824              1\n",
            "364      100830              1\n",
            "368      100840              1\n",
            "1062     104501              1\n",
            "0        100011              1\n",
            "\n",
            "[1425 rows x 2 columns]\n"
          ]
        }
      ]
    },
    {
      "cell_type": "code",
      "source": [
        "# Определяем количество проигранных матчей для каждого игрока\n",
        "\n",
        "df_loser_rank_1 = higher_rank_win['loser_id'].value_counts().to_frame()\n",
        "df_loser_rank_2 = loser_rank_win['loser_id'].value_counts().to_frame()\n",
        "\n",
        "# Полученные значения добавляем в таблицу\n",
        "\n",
        "new_table_rank_1.rename(columns={'winner_id': 'id'}, inplace = True)\n",
        "new_table_rank_2.rename(columns={'winner_id': 'id'}, inplace = True)\n",
        "\n",
        "df_loser_rank_1.reset_index(level=0, inplace=True)\n",
        "df_loser_rank_2.reset_index(level=0, inplace=True)\n",
        "\n",
        "df_loser_rank_1.rename(columns={'index' : 'id', 'loser_id' : 'losed_games'}, inplace = True)\n",
        "df_loser_rank_2.rename(columns={'index' : 'id', 'loser_id' : 'losed_games'}, inplace = True)\n",
        "\n",
        "new_table_rank_1 = new_table_rank_1.merge(df_loser_rank_1, how=\"outer\", on=\"id\")\n",
        "new_table_rank_2  = new_table_rank_2.merge(df_loser_rank_2 , how=\"outer\", on=\"id\")\n",
        "\n",
        "print(new_table_rank_1)"
      ],
      "metadata": {
        "colab": {
          "base_uri": "https://localhost:8080/"
        },
        "id": "xchAHq8Ebzpe",
        "outputId": "2617d43d-6e34-48d4-d77f-7b7b3eca1f52"
      },
      "execution_count": 19,
      "outputs": [
        {
          "output_type": "stream",
          "name": "stdout",
          "text": [
            "          id  victory_count  losed_games\n",
            "0     103819          821.0        103.0\n",
            "1     104745          694.0         88.0\n",
            "2     104925          661.0         73.0\n",
            "3     100656          626.0         86.0\n",
            "4     101736          614.0        132.0\n",
            "...      ...            ...          ...\n",
            "3726  106910            NaN          1.0\n",
            "3727  102365            NaN          1.0\n",
            "3728  101617            NaN          1.0\n",
            "3729  102891            NaN          1.0\n",
            "3730  101616            NaN          1.0\n",
            "\n",
            "[3731 rows x 3 columns]\n"
          ]
        }
      ]
    },
    {
      "cell_type": "code",
      "source": [
        "new_table_rank_1 = new_table_rank_1.merge(df_loser_rank_1, how=\"outer\", on=\"id\")\n",
        "new_table_rank_2  = new_table_rank_2.merge(df_loser_rank_2 , how=\"outer\", on=\"id\")\n",
        "\n",
        "print(new_table_rank_1)\n",
        "print(new_table_rank_2)"
      ],
      "metadata": {
        "colab": {
          "base_uri": "https://localhost:8080/"
        },
        "id": "ZoMfXyxweyT4",
        "outputId": "3b3931b1-4a0f-4370-87dc-989fd6828e1c"
      },
      "execution_count": 23,
      "outputs": [
        {
          "output_type": "stream",
          "name": "stdout",
          "text": [
            "          id  victory_count  losed_games_x  losed_games_y  losed_games\n",
            "0     103819          821.0          103.0          103.0        103.0\n",
            "1     104745          694.0           88.0           88.0         88.0\n",
            "2     104925          661.0           73.0           73.0         73.0\n",
            "3     100656          626.0           86.0           86.0         86.0\n",
            "4     101736          614.0          132.0          132.0        132.0\n",
            "...      ...            ...            ...            ...          ...\n",
            "3726  106910            0.0            1.0            1.0          1.0\n",
            "3727  102365            0.0            1.0            1.0          1.0\n",
            "3728  101617            0.0            1.0            1.0          1.0\n",
            "3729  102891            0.0            1.0            1.0          1.0\n",
            "3730  101616            0.0            1.0            1.0          1.0\n",
            "\n",
            "[3731 rows x 5 columns]\n",
            "          id  victory_count  losed_games_x  losed_games_y  losed_games\n",
            "0     103819          441.0          177.0          177.0        177.0\n",
            "1     104925          437.0          141.0          141.0        141.0\n",
            "2     104745          385.0          139.0          139.0        139.0\n",
            "3     100656          325.0          145.0          145.0        145.0\n",
            "4     100284          277.0          138.0          138.0        138.0\n",
            "...      ...            ...            ...            ...          ...\n",
            "1705  106506            NaN            1.0            1.0          1.0\n",
            "1706  100907            NaN            1.0            1.0          1.0\n",
            "1707  100779            NaN            1.0            1.0          1.0\n",
            "1708  100911            NaN            1.0            1.0          1.0\n",
            "1709  101957            NaN            1.0            1.0          1.0\n",
            "\n",
            "[1710 rows x 5 columns]\n"
          ]
        }
      ]
    },
    {
      "cell_type": "code",
      "source": [
        "#Добавляем новые столбцы в таблицу: \"общее количество игр\" (сумма выигранных и проигранных игр), \"сумма теоретического количества побед\" (рассчитываемое как общее число игр * 0,5) и \"модуль разницы между теоретическим и реальным количеством побед\". Пропуски в данных столбцах заполним нулями, предполагая отсутствие поражений.\n",
        "\n",
        "new_table_rank_1 = new_table_rank_1.fillna(0)\n",
        "new_table_rank_1['all_games'] = new_table_rank_1['victory_count'] + new_table_rank_1['losed_games']\n",
        "new_table_rank_1['theor_victory'] = new_table_rank_1['all_games'] * 0.5\n",
        "new_table_rank_1['victory_diff'] =  new_table_rank_1['victory_count'] - new_table_rank_1['theor_victory']\n",
        "\n",
        "new_table_rank_2 = new_table_rank_2.fillna(0)\n",
        "new_table_rank_2['all_games'] = new_table_rank_2['victory_count'] + new_table_rank_2['losed_games']\n",
        "new_table_rank_2['theor_victory'] = new_table_rank_2['all_games'] * 0.5\n",
        "new_table_rank_2['victory_diff'] = new_table_rank_2['victory_count'] - new_table_rank_2['theor_victory']\n"
      ],
      "metadata": {
        "id": "TA8Uax1qgTsC"
      },
      "execution_count": 99,
      "outputs": []
    },
    {
      "cell_type": "code",
      "source": [
        "# Проводим тест Шапиро-Уилка для определения нормальности распределения\n",
        "\n",
        "alpha = 0.05\n",
        "_, p = shapiro(new_table_rank_1['victory_diff'])\n",
        "print('p=%.3f' % p)"
      ],
      "metadata": {
        "colab": {
          "base_uri": "https://localhost:8080/"
        },
        "id": "3DxfyY18keYn",
        "outputId": "47df252b-b143-4afa-e143-0ccddc7b787d"
      },
      "execution_count": 26,
      "outputs": [
        {
          "output_type": "stream",
          "name": "stdout",
          "text": [
            "p=0.000\n"
          ]
        }
      ]
    },
    {
      "cell_type": "code",
      "source": [
        "# p=0.000 означает, что вероятность наступления события крайне низкая или практически нулевая. В таком случае, можно считать, что распределение абсолютно непрерывно и практически равномерно, так как вероятность любого конкретного значения будет близка к нулю.\n",
        "# Поскольку распределение данных в выборках не является нормальным воспользуемся тестом Манна-Уитни для  определения различий между двумя  выборками\n",
        "# Этот тест подходит для сравнения двух групп, когда данные не являются нормально распределенными или не удовлетворяют требованиям для проведения t-теста\n",
        "\n",
        "# с помощью теста Манна-Уитни проверяем две гипотезы:\n",
        "# Нулевая гипотеза: нет статистически значимых различий между двумя группами\n",
        "# Альтернативная гипотеза: существуют статистически значимые различия между двумя группами\n",
        "\n",
        "alpha = 0.05\n",
        "_, p_value = mannwhitneyu(new_table_rank_1['victory_diff'], new_table_rank_2['victory_diff'], alternative='greater')\n",
        "\n",
        "# выводим результат на экран\n",
        "print('p-value: ', p_value)\n"
      ],
      "metadata": {
        "colab": {
          "base_uri": "https://localhost:8080/"
        },
        "id": "FAkUeH9Enpdj",
        "outputId": "648fe4d7-a8e7-4f0f-e092-ccfc87944845"
      },
      "execution_count": 67,
      "outputs": [
        {
          "output_type": "stream",
          "name": "stdout",
          "text": [
            "p-value:  1.0\n"
          ]
        }
      ]
    },
    {
      "cell_type": "markdown",
      "source": [
        "Если рассчитанное значение меньше критического значения, то отвергается нулевая гипотеза и делается вывод о наличии статистически значимых различий между двумя группами.\n",
        "\n",
        "В данном случае значение больше критического, поэтому не удается отвергнуть нулевую гипотезу и не удается установить статистическую значимость различий между группами."
      ],
      "metadata": {
        "id": "eOx5YCG8tOZf"
      }
    },
    {
      "cell_type": "code",
      "source": [
        "## Задание 1 б\n",
        "\n",
        "# Возьмем данные за 1980 - 2022 года, все остальные данные удаляем\n",
        "\n",
        "new_data['year'] = new_data['tourney_date'].apply(lambda x: int(str(x)[:4]))\n",
        "new_data.drop(['tourney_date'], axis = 1, inplace = True)\n",
        "values = [i for i in range(1980, 2023)]\n",
        "new_data = new_data[new_data.year.isin(values) == True]\n"
      ],
      "metadata": {
        "id": "b-wqdeXrtuNY"
      },
      "execution_count": 27,
      "outputs": []
    },
    {
      "cell_type": "code",
      "source": [
        "# Отбираем данные с различиями в рангах менее 5 и более 20\n",
        "# удаляем из данных все лишние показатели\n",
        "rank_5 = abs(new_data['winner_rank'] - new_data['loser_rank']) < 6\n",
        "date_rank_5 = new_data[rank_5]\n",
        "\n",
        "rank_20 = abs(new_data['winner_rank'] - new_data['loser_rank']) > 20\n",
        "date_rank_20 = new_data[rank_20]\n",
        "\n",
        "date_rank_5.drop(['tourney_id', 'tourney_name', 'surface', 'draw_size', 'tourney_level',\n",
        "       'winner_seed', 'winner_entry',\n",
        "       'winner_name', 'winner_hand', 'winner_ht', 'winner_ioc', 'winner_age',\n",
        "       'loser_seed', 'loser_entry', 'loser_name', 'loser_hand',\n",
        "       'loser_ht', 'loser_ioc', 'loser_age', 'score', 'best_of', 'round',\n",
        "       'minutes', 'w_ace', 'w_df', 'w_svpt', 'w_1stIn', 'w_1stWon', 'w_2ndWon',\n",
        "       'w_SvGms', 'w_bpSaved', 'w_bpFaced', 'l_ace', 'l_df', 'l_svpt',\n",
        "       'l_1stIn', 'l_1stWon', 'l_2ndWon', 'l_SvGms', 'l_bpSaved', 'l_bpFaced',\n",
        "       'winner_rank', 'winner_rank_points', 'loser_rank', 'loser_rank_points'], axis = 1, inplace = True)"
      ],
      "metadata": {
        "colab": {
          "base_uri": "https://localhost:8080/"
        },
        "id": "QgzqFom0y5W-",
        "outputId": "f0cad27a-943a-4f26-886a-102904ce2200"
      },
      "execution_count": 28,
      "outputs": [
        {
          "output_type": "stream",
          "name": "stderr",
          "text": [
            "<ipython-input-28-f2c305b64795>:8: SettingWithCopyWarning: \n",
            "A value is trying to be set on a copy of a slice from a DataFrame\n",
            "\n",
            "See the caveats in the documentation: https://pandas.pydata.org/pandas-docs/stable/user_guide/indexing.html#returning-a-view-versus-a-copy\n",
            "  date_rank_5.drop(['tourney_id', 'tourney_name', 'surface', 'draw_size', 'tourney_level',\n"
          ]
        }
      ]
    },
    {
      "cell_type": "code",
      "source": [
        "date_rank_20.drop(['tourney_id', 'tourney_name', 'surface', 'draw_size', 'tourney_level',\n",
        "       'winner_seed', 'winner_entry',\n",
        "       'winner_name', 'winner_hand', 'winner_ht', 'winner_ioc', 'winner_age',\n",
        "       'loser_seed', 'loser_entry', 'loser_name', 'loser_hand',\n",
        "       'loser_ht', 'loser_ioc', 'loser_age', 'score', 'best_of', 'round',\n",
        "       'minutes', 'w_ace', 'w_df', 'w_svpt', 'w_1stIn', 'w_1stWon', 'w_2ndWon',\n",
        "       'w_SvGms', 'w_bpSaved', 'w_bpFaced', 'l_ace', 'l_df', 'l_svpt',\n",
        "       'l_1stIn', 'l_1stWon', 'l_2ndWon', 'l_SvGms', 'l_bpSaved', 'l_bpFaced',\n",
        "       'winner_rank', 'winner_rank_points', 'loser_rank', 'loser_rank_points'], axis = 1, inplace = True)"
      ],
      "metadata": {
        "colab": {
          "base_uri": "https://localhost:8080/"
        },
        "id": "F2jKCF6l2SR-",
        "outputId": "ce005671-f558-4f3d-a299-7ae68abca62d"
      },
      "execution_count": 29,
      "outputs": [
        {
          "output_type": "stream",
          "name": "stderr",
          "text": [
            "<ipython-input-29-cf4249e1f22c>:1: SettingWithCopyWarning: \n",
            "A value is trying to be set on a copy of a slice from a DataFrame\n",
            "\n",
            "See the caveats in the documentation: https://pandas.pydata.org/pandas-docs/stable/user_guide/indexing.html#returning-a-view-versus-a-copy\n",
            "  date_rank_20.drop(['tourney_id', 'tourney_name', 'surface', 'draw_size', 'tourney_level',\n"
          ]
        }
      ]
    },
    {
      "cell_type": "code",
      "source": [
        "# Создаем таблицу с игроками, годами, количеством игр и побед\n",
        "\n",
        "new_table_rank_5 = (date_rank_5\n",
        ".groupby(['winner_id', 'year'])\n",
        ".agg({'match_num':'count'})\n",
        ".reset_index()\n",
        ".rename(columns={'match_num': 'victory_count'}))\n",
        "\n",
        "new_table_rank_5.rename(columns = {'winner_id' : 'id'}, inplace = True)\n",
        "\n",
        "new_table_rank_5 = (date_rank_5\n",
        ".groupby(['loser_id', 'year'])\n",
        ".agg({'match_num':'count'})\n",
        ".reset_index()\n",
        ".rename(columns={'match_num': 'lose_count'}))\n",
        "\n",
        "new_table_rank_5.rename(columns = {'loser_id' : 'id'}, inplace = True)\n",
        "\n",
        "new_table_rank_5 = pd.merge(new_table_rank_5, new_table_rank_5, how=\"inner\", on=['id', 'year'])\n",
        "\n"
      ],
      "metadata": {
        "id": "pDZK8-3U2ZDy"
      },
      "execution_count": 30,
      "outputs": []
    },
    {
      "cell_type": "code",
      "source": [
        "new_table_rank_20 = (date_rank_20\n",
        ".groupby(['winner_id', 'year'])\n",
        ".agg({'match_num':'count'})\n",
        ".reset_index()\n",
        ".rename(columns={'match_num': 'victory_count'}))\n",
        "\n",
        "new_table_rank_20.rename(columns = {'winner_id' : 'id'}, inplace = True)\n",
        "\n",
        "new_table_rank_20 = (date_rank_20\n",
        ".groupby(['loser_id', 'year'])\n",
        ".agg({'match_num':'count'})\n",
        ".reset_index()\n",
        ".rename(columns={'match_num': 'lose_count'}))\n",
        "\n",
        "new_table_rank_20.rename(columns = {'loser_id' : 'id'}, inplace = True)\n",
        "\n",
        "new_table_rank_20 = pd.merge(new_table_rank_20, new_table_rank_20, how=\"inner\", on=['id', 'year'])\n",
        "\n"
      ],
      "metadata": {
        "id": "FzO4lqos7ykG"
      },
      "execution_count": 31,
      "outputs": []
    },
    {
      "cell_type": "code",
      "source": [
        "# Проводим тест Шапиро-Уилка дл определения нормальности распределения\n",
        "alpha = 0.05\n",
        "_, p = shapiro(new_table_rank_20)\n",
        "print('p=%.3f' % p)"
      ],
      "metadata": {
        "colab": {
          "base_uri": "https://localhost:8080/"
        },
        "id": "uByUfVQr_i_4",
        "outputId": "b4c7462a-379b-4e33-9252-263e38702332"
      },
      "execution_count": 32,
      "outputs": [
        {
          "output_type": "stream",
          "name": "stdout",
          "text": [
            "p=0.000\n"
          ]
        },
        {
          "output_type": "stream",
          "name": "stderr",
          "text": [
            "/usr/local/lib/python3.10/dist-packages/scipy/stats/_morestats.py:1882: UserWarning: p-value may not be accurate for N > 5000.\n",
            "  warnings.warn(\"p-value may not be accurate for N > 5000.\")\n"
          ]
        }
      ]
    },
    {
      "cell_type": "code",
      "source": [
        "alpha = 0.05\n",
        "\n",
        "_, p_value = mannwhitneyu(new_table_rank_5, new_table_rank_20)\n",
        "\n",
        "print('p-value: ', p_value)\n"
      ],
      "metadata": {
        "colab": {
          "base_uri": "https://localhost:8080/"
        },
        "id": "QmpZRg4sCGyg",
        "outputId": "443f1f4d-9349-49f7-ad02-be0d80744224"
      },
      "execution_count": 33,
      "outputs": [
        {
          "output_type": "stream",
          "name": "stdout",
          "text": [
            "p-value:  [2.53100456e-018 1.22985403e-001 3.50126784e-293 3.50126784e-293]\n"
          ]
        }
      ]
    },
    {
      "cell_type": "markdown",
      "source": [
        "Гипотеза о равенстве доли побед при большой разнице в рангах и небольшой разнице отвергается."
      ],
      "metadata": {
        "id": "3Mc1WXa7gUDA"
      }
    },
    {
      "cell_type": "code",
      "source": [
        "### Задание 2\n",
        "# Создаем базу данных по годам\n",
        "\n",
        "date_tab = []\n",
        "for i in range (1980, 2002):\n",
        "    date_tab.append(f'https://raw.githubusercontent.com/JeffSackmann/tennis_atp/master/atp_matches_{i}.csv')\n",
        "\n",
        "date_tab\n"
      ],
      "metadata": {
        "colab": {
          "base_uri": "https://localhost:8080/"
        },
        "id": "AK_3frImDJGF",
        "outputId": "31fcfbeb-bce8-4848-8a5b-cc78c3d13489"
      },
      "execution_count": 35,
      "outputs": [
        {
          "output_type": "execute_result",
          "data": {
            "text/plain": [
              "['https://raw.githubusercontent.com/JeffSackmann/tennis_atp/master/atp_matches_1980.csv',\n",
              " 'https://raw.githubusercontent.com/JeffSackmann/tennis_atp/master/atp_matches_1981.csv',\n",
              " 'https://raw.githubusercontent.com/JeffSackmann/tennis_atp/master/atp_matches_1982.csv',\n",
              " 'https://raw.githubusercontent.com/JeffSackmann/tennis_atp/master/atp_matches_1983.csv',\n",
              " 'https://raw.githubusercontent.com/JeffSackmann/tennis_atp/master/atp_matches_1984.csv',\n",
              " 'https://raw.githubusercontent.com/JeffSackmann/tennis_atp/master/atp_matches_1985.csv',\n",
              " 'https://raw.githubusercontent.com/JeffSackmann/tennis_atp/master/atp_matches_1986.csv',\n",
              " 'https://raw.githubusercontent.com/JeffSackmann/tennis_atp/master/atp_matches_1987.csv',\n",
              " 'https://raw.githubusercontent.com/JeffSackmann/tennis_atp/master/atp_matches_1988.csv',\n",
              " 'https://raw.githubusercontent.com/JeffSackmann/tennis_atp/master/atp_matches_1989.csv',\n",
              " 'https://raw.githubusercontent.com/JeffSackmann/tennis_atp/master/atp_matches_1990.csv',\n",
              " 'https://raw.githubusercontent.com/JeffSackmann/tennis_atp/master/atp_matches_1991.csv',\n",
              " 'https://raw.githubusercontent.com/JeffSackmann/tennis_atp/master/atp_matches_1992.csv',\n",
              " 'https://raw.githubusercontent.com/JeffSackmann/tennis_atp/master/atp_matches_1993.csv',\n",
              " 'https://raw.githubusercontent.com/JeffSackmann/tennis_atp/master/atp_matches_1994.csv',\n",
              " 'https://raw.githubusercontent.com/JeffSackmann/tennis_atp/master/atp_matches_1995.csv',\n",
              " 'https://raw.githubusercontent.com/JeffSackmann/tennis_atp/master/atp_matches_1996.csv',\n",
              " 'https://raw.githubusercontent.com/JeffSackmann/tennis_atp/master/atp_matches_1997.csv',\n",
              " 'https://raw.githubusercontent.com/JeffSackmann/tennis_atp/master/atp_matches_1998.csv',\n",
              " 'https://raw.githubusercontent.com/JeffSackmann/tennis_atp/master/atp_matches_1999.csv',\n",
              " 'https://raw.githubusercontent.com/JeffSackmann/tennis_atp/master/atp_matches_2000.csv',\n",
              " 'https://raw.githubusercontent.com/JeffSackmann/tennis_atp/master/atp_matches_2001.csv']"
            ]
          },
          "metadata": {},
          "execution_count": 35
        }
      ]
    },
    {
      "cell_type": "code",
      "source": [
        "# Объединяем таблицы по годам\n",
        "games_1980 = pd.DataFrame()\n",
        "\n",
        "for link in date_tab:\n",
        "    response = urllib.request.urlopen(link)\n",
        "    date = pd.read_csv(response)\n",
        "    games_1980 = pd.concat([games_1980, date], ignore_index=True)\n",
        "\n",
        "print(games_1980)"
      ],
      "metadata": {
        "colab": {
          "base_uri": "https://localhost:8080/"
        },
        "id": "6grhkkvBEA9L",
        "outputId": "944a4d3f-bd4a-4d43-f0cd-15fd30e1ce2f"
      },
      "execution_count": 36,
      "outputs": [
        {
          "output_type": "stream",
          "name": "stdout",
          "text": [
            "      tourney_id                 tourney_name surface  draw_size  \\\n",
            "0      1980-1725             Pepsi Grand Slam    Clay          4   \n",
            "1      1980-1725             Pepsi Grand Slam    Clay          4   \n",
            "2      1980-1725             Pepsi Grand Slam    Clay          4   \n",
            "3       1980-205                        Lagos    Clay         32   \n",
            "4       1980-205                        Lagos    Clay         32   \n",
            "...          ...                          ...     ...        ...   \n",
            "80063  2001-D081  Davis Cup G1 PO: ZIM vs SLO    Hard          4   \n",
            "80064   2001-615                   Dusseldorf    Clay         64   \n",
            "80065   2001-615                   Dusseldorf    Clay         64   \n",
            "80066   2001-615                   Dusseldorf    Clay         64   \n",
            "80067   2001-615                   Dusseldorf    Clay         64   \n",
            "\n",
            "      tourney_level  tourney_date  match_num  winner_id  winner_seed  \\\n",
            "0                 A      19800208          1     100437          NaN   \n",
            "1                 A      19800208          2     100342          NaN   \n",
            "2                 A      19800208          3     100437          NaN   \n",
            "3                 A      19800225          1     100259          1.0   \n",
            "4                 A      19800225          2     100135          NaN   \n",
            "...             ...           ...        ...        ...          ...   \n",
            "80063             D      20010921          5     101970          NaN   \n",
            "80064             A      20010521        300     103720          NaN   \n",
            "80065             A      20010521        296     103163          NaN   \n",
            "80066             A      20010521        280     103163          NaN   \n",
            "80067             A      20010521        277     103206          NaN   \n",
            "\n",
            "      winner_entry  ... l_1stIn l_1stWon  l_2ndWon l_SvGms  l_bpSaved  \\\n",
            "0              NaN  ...     NaN      NaN       NaN     NaN        NaN   \n",
            "1              NaN  ...     NaN      NaN       NaN     NaN        NaN   \n",
            "2              NaN  ...     NaN      NaN       NaN     NaN        NaN   \n",
            "3              NaN  ...     NaN      NaN       NaN     NaN        NaN   \n",
            "4              NaN  ...     NaN      NaN       NaN     NaN        NaN   \n",
            "...            ...  ...     ...      ...       ...     ...        ...   \n",
            "80063          NaN  ...     NaN      NaN       NaN     NaN        NaN   \n",
            "80064          NaN  ...     NaN      NaN       NaN     NaN        NaN   \n",
            "80065          NaN  ...     NaN      NaN       NaN     NaN        NaN   \n",
            "80066          NaN  ...     NaN      NaN       NaN     NaN        NaN   \n",
            "80067          NaN  ...     NaN      NaN       NaN     NaN        NaN   \n",
            "\n",
            "       l_bpFaced  winner_rank winner_rank_points loser_rank loser_rank_points  \n",
            "0            NaN          1.0                NaN        6.0               NaN  \n",
            "1            NaN          5.0                NaN        2.0               NaN  \n",
            "2            NaN          1.0                NaN        5.0               NaN  \n",
            "3            NaN         58.0                NaN        NaN               NaN  \n",
            "4            NaN          NaN                NaN        NaN               NaN  \n",
            "...          ...          ...                ...        ...               ...  \n",
            "80063        NaN        464.0               49.0        NaN               NaN  \n",
            "80064        NaN          6.0             2615.0        2.0            3765.0  \n",
            "80065        NaN         23.0             1295.0        6.0            2615.0  \n",
            "80066        NaN         23.0             1295.0        9.0            2035.0  \n",
            "80067        NaN         10.0             2030.0        2.0            3765.0  \n",
            "\n",
            "[80068 rows x 49 columns]\n"
          ]
        }
      ]
    },
    {
      "cell_type": "code",
      "source": [
        "# Список ссылок на таблицы\n",
        "date_tab = []\n",
        "for i in range (2002, 2023):\n",
        "    date_tab.append(f'https://raw.githubusercontent.com/JeffSackmann/tennis_atp/master/atp_matches_{i}.csv')\n",
        "\n",
        "date_tab"
      ],
      "metadata": {
        "colab": {
          "base_uri": "https://localhost:8080/"
        },
        "id": "g7rkGBzTFbzh",
        "outputId": "c499914f-0233-40a4-c7ba-f475bd9824d1"
      },
      "execution_count": 37,
      "outputs": [
        {
          "output_type": "execute_result",
          "data": {
            "text/plain": [
              "['https://raw.githubusercontent.com/JeffSackmann/tennis_atp/master/atp_matches_2002.csv',\n",
              " 'https://raw.githubusercontent.com/JeffSackmann/tennis_atp/master/atp_matches_2003.csv',\n",
              " 'https://raw.githubusercontent.com/JeffSackmann/tennis_atp/master/atp_matches_2004.csv',\n",
              " 'https://raw.githubusercontent.com/JeffSackmann/tennis_atp/master/atp_matches_2005.csv',\n",
              " 'https://raw.githubusercontent.com/JeffSackmann/tennis_atp/master/atp_matches_2006.csv',\n",
              " 'https://raw.githubusercontent.com/JeffSackmann/tennis_atp/master/atp_matches_2007.csv',\n",
              " 'https://raw.githubusercontent.com/JeffSackmann/tennis_atp/master/atp_matches_2008.csv',\n",
              " 'https://raw.githubusercontent.com/JeffSackmann/tennis_atp/master/atp_matches_2009.csv',\n",
              " 'https://raw.githubusercontent.com/JeffSackmann/tennis_atp/master/atp_matches_2010.csv',\n",
              " 'https://raw.githubusercontent.com/JeffSackmann/tennis_atp/master/atp_matches_2011.csv',\n",
              " 'https://raw.githubusercontent.com/JeffSackmann/tennis_atp/master/atp_matches_2012.csv',\n",
              " 'https://raw.githubusercontent.com/JeffSackmann/tennis_atp/master/atp_matches_2013.csv',\n",
              " 'https://raw.githubusercontent.com/JeffSackmann/tennis_atp/master/atp_matches_2014.csv',\n",
              " 'https://raw.githubusercontent.com/JeffSackmann/tennis_atp/master/atp_matches_2015.csv',\n",
              " 'https://raw.githubusercontent.com/JeffSackmann/tennis_atp/master/atp_matches_2016.csv',\n",
              " 'https://raw.githubusercontent.com/JeffSackmann/tennis_atp/master/atp_matches_2017.csv',\n",
              " 'https://raw.githubusercontent.com/JeffSackmann/tennis_atp/master/atp_matches_2018.csv',\n",
              " 'https://raw.githubusercontent.com/JeffSackmann/tennis_atp/master/atp_matches_2019.csv',\n",
              " 'https://raw.githubusercontent.com/JeffSackmann/tennis_atp/master/atp_matches_2020.csv',\n",
              " 'https://raw.githubusercontent.com/JeffSackmann/tennis_atp/master/atp_matches_2021.csv',\n",
              " 'https://raw.githubusercontent.com/JeffSackmann/tennis_atp/master/atp_matches_2022.csv']"
            ]
          },
          "metadata": {},
          "execution_count": 37
        }
      ]
    },
    {
      "cell_type": "code",
      "source": [
        "#Объединение таблиц\n",
        "games_2022 = pd.DataFrame()\n",
        "\n",
        "for link in date_tab:\n",
        "    response = urllib.request.urlopen(link)\n",
        "    date = pd.read_csv(response)\n",
        "    games_2022 = pd.concat([games_2022, date], ignore_index=True)\n",
        "\n",
        "games_2022.columns"
      ],
      "metadata": {
        "colab": {
          "base_uri": "https://localhost:8080/"
        },
        "id": "zCD7YbKVFsiu",
        "outputId": "3424d029-bbb7-4e0d-93f3-4a314ed66307"
      },
      "execution_count": 39,
      "outputs": [
        {
          "output_type": "execute_result",
          "data": {
            "text/plain": [
              "Index(['tourney_id', 'tourney_name', 'surface', 'draw_size', 'tourney_level',\n",
              "       'tourney_date', 'match_num', 'winner_id', 'winner_seed', 'winner_entry',\n",
              "       'winner_name', 'winner_hand', 'winner_ht', 'winner_ioc', 'winner_age',\n",
              "       'loser_id', 'loser_seed', 'loser_entry', 'loser_name', 'loser_hand',\n",
              "       'loser_ht', 'loser_ioc', 'loser_age', 'score', 'best_of', 'round',\n",
              "       'minutes', 'w_ace', 'w_df', 'w_svpt', 'w_1stIn', 'w_1stWon', 'w_2ndWon',\n",
              "       'w_SvGms', 'w_bpSaved', 'w_bpFaced', 'l_ace', 'l_df', 'l_svpt',\n",
              "       'l_1stIn', 'l_1stWon', 'l_2ndWon', 'l_SvGms', 'l_bpSaved', 'l_bpFaced',\n",
              "       'winner_rank', 'winner_rank_points', 'loser_rank', 'loser_rank_points'],\n",
              "      dtype='object')"
            ]
          },
          "metadata": {},
          "execution_count": 39
        }
      ]
    },
    {
      "cell_type": "code",
      "source": [
        "#Подсчитываем количество сыгранных сетов\n",
        "\n",
        "games_2022[\"score\"]"
      ],
      "metadata": {
        "colab": {
          "base_uri": "https://localhost:8080/"
        },
        "id": "aQdTygLHI3D-",
        "outputId": "92090bfb-c011-45fd-a033-51fc8b2903f2"
      },
      "execution_count": 40,
      "outputs": [
        {
          "output_type": "execute_result",
          "data": {
            "text/plain": [
              "0             6-3 7-6(4)\n",
              "1                6-1 6-1\n",
              "2                6-2 6-2\n",
              "3             7-6(5) 6-1\n",
              "4                6-4 6-4\n",
              "              ...       \n",
              "62154            6-4 6-4\n",
              "62155        4-6 6-4 6-4\n",
              "62156    1-6 6-4 4-1 RET\n",
              "62157            6-4 6-4\n",
              "62158            6-4 6-4\n",
              "Name: score, Length: 62159, dtype: object"
            ]
          },
          "metadata": {},
          "execution_count": 40
        }
      ]
    },
    {
      "cell_type": "code",
      "source": [
        "games_2022['score_list'] = games_2022['score'].apply(lambda x: x.split(\" \"))\n",
        "games_2022['sets'] = games_2022['score_list'].apply(lambda x: len(x))\n",
        "games_2022['sets']"
      ],
      "metadata": {
        "colab": {
          "base_uri": "https://localhost:8080/"
        },
        "id": "3y2BWF6kJC_A",
        "outputId": "13c08c6c-f1a7-43db-c1c1-b1da17ccbd60"
      },
      "execution_count": 41,
      "outputs": [
        {
          "output_type": "execute_result",
          "data": {
            "text/plain": [
              "0        2\n",
              "1        2\n",
              "2        2\n",
              "3        2\n",
              "4        2\n",
              "        ..\n",
              "62154    2\n",
              "62155    3\n",
              "62156    4\n",
              "62157    2\n",
              "62158    2\n",
              "Name: sets, Length: 62159, dtype: int64"
            ]
          },
          "metadata": {},
          "execution_count": 41
        }
      ]
    },
    {
      "cell_type": "code",
      "source": [
        "games_1980['score_list'] = games_1980['score'].apply(lambda x: str(x).split(\" \"))\n",
        "games_1980['sets'] = games_1980['score_list'].apply(lambda x: len(x))"
      ],
      "metadata": {
        "id": "iRUkffGMJVIC"
      },
      "execution_count": 42,
      "outputs": []
    },
    {
      "cell_type": "code",
      "source": [
        "# Создаем таблицу с номером победителя и  количеством сыгранных им сетов\n",
        "tab_games_1980 = pd.pivot_table(games_1980,\n",
        "               index=[\"winner_id\"],\n",
        "               values=[\"sets\"])\n",
        "\n",
        "tab_games_2022 = pd.pivot_table(games_2022,\n",
        "               index=[\"winner_id\"],\n",
        "               values=[\"sets\"])\n"
      ],
      "metadata": {
        "id": "5UOznP8HJmXR"
      },
      "execution_count": 43,
      "outputs": []
    },
    {
      "cell_type": "code",
      "source": [
        "#Запускаем тест Шапиро-Уилка для определения нормальности распределения\n",
        "alpha = 0.05\n",
        "_, p = shapiro(tab_games_1980['sets'])\n",
        "print('p=%.3f' % p)\n"
      ],
      "metadata": {
        "colab": {
          "base_uri": "https://localhost:8080/"
        },
        "id": "aqp4CK6HLCSq",
        "outputId": "0869e42d-55a7-43f6-af83-1829e1a97a8c"
      },
      "execution_count": 44,
      "outputs": [
        {
          "output_type": "stream",
          "name": "stdout",
          "text": [
            "p=0.000\n"
          ]
        }
      ]
    },
    {
      "cell_type": "code",
      "source": [
        "alpha = 0.05\n",
        "_, p = shapiro(tab_games_2022['sets'])\n",
        "print('p=%.3f' % p)"
      ],
      "metadata": {
        "colab": {
          "base_uri": "https://localhost:8080/"
        },
        "id": "8QIGnii1MKQ9",
        "outputId": "ecebafd3-fe56-4e36-b629-52c6328e8cc4"
      },
      "execution_count": 45,
      "outputs": [
        {
          "output_type": "stream",
          "name": "stdout",
          "text": [
            "p=0.000\n"
          ]
        }
      ]
    },
    {
      "cell_type": "code",
      "source": [
        "#Запускаеи Тест Манна-Уитни и проверяем нулевую и альтернативную гипотезы\n",
        "\n",
        "alpha = 0.05/2\n",
        "_, p_value = mannwhitneyu(tab_games_2022['sets'], tab_games_1980['sets'], alternative='greater')\n",
        "\n",
        "print('p-value: ', p_value)"
      ],
      "metadata": {
        "colab": {
          "base_uri": "https://localhost:8080/"
        },
        "id": "lXa6EJXfMdmo",
        "outputId": "3ba2c3fc-3cd6-4cd6-8180-1011e0bac599"
      },
      "execution_count": 46,
      "outputs": [
        {
          "output_type": "stream",
          "name": "stdout",
          "text": [
            "p-value:  0.061186907828732276\n"
          ]
        }
      ]
    },
    {
      "cell_type": "markdown",
      "source": [
        "Не удается установить статистическую значимость различий между группами, поэтому предположение о том, что с течением времени игрокам нужно меньше сетов для выигрыша, отвергаем"
      ],
      "metadata": {
        "id": "o_RcFpkuNTK0"
      }
    },
    {
      "cell_type": "code",
      "source": [
        "# Задание 3\n",
        "\n",
        "games_1980 = games_1980[games_1980['best_of'] == 5]\n",
        "games_2022 = games_2022[games_2022['best_of'] == 5]"
      ],
      "metadata": {
        "id": "04sRn47XNbww"
      },
      "execution_count": 47,
      "outputs": []
    },
    {
      "cell_type": "code",
      "source": [
        "# Создаем таблицу со средним количеством сыгранных сетов игрока\n",
        "tab_1980 = pd.pivot_table(games_1980,\n",
        "               index=[\"winner_id\"],\n",
        "               values=[\"sets\"])\n",
        "\n",
        "tab_2022 = pd.pivot_table(games_2022,\n",
        "               index=[\"winner_id\"],\n",
        "               values=[\"sets\"])"
      ],
      "metadata": {
        "id": "KkyCw1rCOWXj"
      },
      "execution_count": 48,
      "outputs": []
    },
    {
      "cell_type": "code",
      "source": [
        "#Проводим Тест Шапиро-Уилка\n",
        "\n",
        "alpha = 0.05\n",
        "_, p = shapiro(tab_1980['sets'])\n",
        "print('p=%.3f' % p)"
      ],
      "metadata": {
        "colab": {
          "base_uri": "https://localhost:8080/"
        },
        "id": "ejVLbe-7Phv8",
        "outputId": "568c5b4a-c5a6-4d6f-fd3b-5156c5824984"
      },
      "execution_count": 49,
      "outputs": [
        {
          "output_type": "stream",
          "name": "stdout",
          "text": [
            "p=0.000\n"
          ]
        }
      ]
    },
    {
      "cell_type": "code",
      "source": [
        "alpha = 0.05\n",
        "_, p = shapiro(tab_2022['sets'])\n",
        "print('p=%.3f' % p)"
      ],
      "metadata": {
        "colab": {
          "base_uri": "https://localhost:8080/"
        },
        "id": "byhH2xZzPxKk",
        "outputId": "b3ae52f9-bbab-4ad8-9189-db401a907f4e"
      },
      "execution_count": 50,
      "outputs": [
        {
          "output_type": "stream",
          "name": "stdout",
          "text": [
            "p=0.000\n"
          ]
        }
      ]
    },
    {
      "cell_type": "code",
      "source": [
        "##Проводи тест Манна-Уитни и проверяем нулевую и альтернативную гипотезы\n",
        "\n",
        "alpha = 0.05\n",
        "\n",
        "_, p_value = mannwhitneyu(tab_1980['sets'], tab_2022['sets'], alternative='greater')\n",
        "\n",
        "print('p-value: ', p_value)"
      ],
      "metadata": {
        "colab": {
          "base_uri": "https://localhost:8080/"
        },
        "id": "zMPe-hCPQFU1",
        "outputId": "7720e33e-a5bb-4aa6-c73b-2604edd5065a"
      },
      "execution_count": 51,
      "outputs": [
        {
          "output_type": "stream",
          "name": "stdout",
          "text": [
            "p-value:  0.4119894682402293\n"
          ]
        }
      ]
    },
    {
      "cell_type": "markdown",
      "source": [
        "Поскольку значение больше критического, то значения количества сетов в двух выборках равны"
      ],
      "metadata": {
        "id": "pQIvflneQYuj"
      }
    },
    {
      "cell_type": "code",
      "source": [
        "# Задание 4\n",
        "\n",
        "#Выбираем игроков и для каждого из них посчитываем долю выигранных брейк поинтов\n",
        "\n",
        "games_2022['winner_id'].value_counts()\n",
        "\n",
        "games_2022[games_2022['winner_id'] == 103819]['tourney_date'].unique()\n",
        "\n",
        "games_2022[games_2022['winner_id'] == 104925]['tourney_date'].unique()\n",
        "\n",
        "games_2022[games_2022['winner_id'] == 104745]['tourney_date'].unique()"
      ],
      "metadata": {
        "colab": {
          "base_uri": "https://localhost:8080/"
        },
        "id": "jDev4D15Qf21",
        "outputId": "71512075-ea6b-45d3-e0dd-dbe711e530b5"
      },
      "execution_count": 52,
      "outputs": [
        {
          "output_type": "execute_result",
          "data": {
            "text/plain": [
              "array([20030623, 20030825, 20040830, 20040119, 20040206, 20040924,\n",
              "       20041203, 20051017, 20050718, 20050411, 20050502, 20050418,\n",
              "       20050523, 20050620, 20050829, 20050117, 20050923, 20060417,\n",
              "       20060508, 20060424, 20060529, 20060626, 20060828, 20060922,\n",
              "       20070528, 20070625, 20070827, 20070115, 20080525, 20080623,\n",
              "       20080825, 20080114, 20080811, 20080411, 20080919, 20090525,\n",
              "       20090831, 20090119, 20090306, 20091204, 20100118, 20100524,\n",
              "       20100621, 20100830, 20110117, 20110304, 20110522, 20110620,\n",
              "       20110829, 20110916, 20111202, 20120116, 20120527, 20120625,\n",
              "       20130527, 20130826, 20130913, 20140113, 20140526, 20140623,\n",
              "       20150119, 20150524, 20150629, 20150831, 20150918, 20160523,\n",
              "       20160829, 20170116, 20170529, 20170703, 20170828, 20180115,\n",
              "       20180406, 20180528, 20180702, 20180827, 20190114, 20190527,\n",
              "       20190701, 20190826, 20200120, 20200928, 20210531, 20210208,\n",
              "       20220117, 20220523, 20220627, 20220829])"
            ]
          },
          "metadata": {},
          "execution_count": 52
        }
      ]
    },
    {
      "cell_type": "code",
      "source": [
        "#Выбираем игроков с Id 103819, 104925, 104745. Создаем для них таблицу с колонкой выигранных брейк поинтов\n",
        "id_103819 = games_2022[games_2022['winner_id'] == 103819]\n",
        "\n",
        "id_103819.drop(['tourney_id', 'tourney_name', 'surface', 'draw_size', 'tourney_level',\n",
        "       'match_num', 'winner_id', 'winner_seed', 'winner_entry',\n",
        "       'winner_name', 'winner_hand', 'winner_ht', 'winner_ioc', 'winner_age',\n",
        "       'loser_id', 'loser_seed', 'loser_entry', 'loser_name', 'loser_hand',\n",
        "       'loser_ht', 'loser_ioc', 'loser_age', 'score', 'best_of', 'round',\n",
        "       'minutes', 'w_ace', 'w_df', 'w_svpt', 'w_1stIn', 'w_1stWon', 'w_2ndWon',\n",
        "       'w_SvGms', 'l_ace', 'l_df', 'l_svpt', 'l_bpSaved', 'l_bpFaced',\n",
        "       'l_1stIn', 'l_1stWon', 'l_2ndWon', 'l_SvGms',\n",
        "       'winner_rank', 'winner_rank_points', 'loser_rank', 'loser_rank_points', 'score_list' , 'sets'], axis = 1, inplace = True)\n",
        "id_103819['year'] = (id_103819['tourney_date']).apply(lambda x: int(str(x)[:4]))\n",
        "id_103819['bp_rate_win'] = id_103819['w_bpSaved']/id_103819['w_bpFaced']\n",
        "id_103819.drop(['tourney_date', 'w_bpSaved', 'w_bpFaced'], axis = 1, inplace = True)\n",
        "id_103819_lose = games_2022[games_2022['loser_id'] == 103819]\n",
        "id_103819_lose.drop(['tourney_id', 'tourney_name', 'surface', 'draw_size', 'tourney_level',\n",
        "       'match_num', 'winner_id', 'winner_seed', 'winner_entry',\n",
        "       'winner_name', 'winner_hand', 'winner_ht', 'winner_ioc', 'winner_age',\n",
        "       'loser_id', 'loser_seed', 'loser_entry', 'loser_name', 'loser_hand',\n",
        "       'loser_ht', 'loser_ioc', 'loser_age', 'score', 'best_of', 'round',\n",
        "       'minutes', 'w_ace', 'w_df', 'w_svpt', 'w_1stIn', 'w_1stWon', 'w_2ndWon',\n",
        "       'w_SvGms', 'l_ace', 'l_df', 'l_svpt',  'w_bpSaved', 'w_bpFaced',\n",
        "       'l_1stIn', 'l_1stWon', 'l_2ndWon', 'l_SvGms',\n",
        "       'winner_rank', 'winner_rank_points', 'loser_rank', 'loser_rank_points', 'score_list' , 'sets'], axis = 1, inplace = True)\n",
        "id_103819_lose['year'] = (id_103819_lose['tourney_date']).apply(lambda x: int(str(x)[:4]))\n",
        "id_103819_lose['bp_rate_lose'] = id_103819_lose['l_bpSaved']/id_103819_lose['l_bpFaced']\n",
        "id_103819_lose.drop(['tourney_date', 'l_bpSaved', 'l_bpFaced'], axis = 1, inplace = True)\n",
        "fin_game_103819 = id_103819_lose.merge(id_103819, how = 'outer', on = 'year')\n",
        "fin_game_103819 = fin_game_103819[fin_game_103819['year'] > 2008]\n",
        "fin_game_103819['year'] = fin_game_103819['year'].astype('category')"
      ],
      "metadata": {
        "colab": {
          "base_uri": "https://localhost:8080/"
        },
        "id": "2OrNdnb4RlUf",
        "outputId": "d7466f7d-7593-4e9a-8ac2-18b4611ce10a"
      },
      "execution_count": 53,
      "outputs": [
        {
          "output_type": "stream",
          "name": "stderr",
          "text": [
            "<ipython-input-53-007dc4cb3d5e>:5: SettingWithCopyWarning: \n",
            "A value is trying to be set on a copy of a slice from a DataFrame\n",
            "\n",
            "See the caveats in the documentation: https://pandas.pydata.org/pandas-docs/stable/user_guide/indexing.html#returning-a-view-versus-a-copy\n",
            "  id_103819.drop(['tourney_id', 'tourney_name', 'surface', 'draw_size', 'tourney_level',\n",
            "<ipython-input-53-007dc4cb3d5e>:14: SettingWithCopyWarning: \n",
            "A value is trying to be set on a copy of a slice from a DataFrame.\n",
            "Try using .loc[row_indexer,col_indexer] = value instead\n",
            "\n",
            "See the caveats in the documentation: https://pandas.pydata.org/pandas-docs/stable/user_guide/indexing.html#returning-a-view-versus-a-copy\n",
            "  id_103819['year'] = (id_103819['tourney_date']).apply(lambda x: int(str(x)[:4]))\n",
            "<ipython-input-53-007dc4cb3d5e>:15: SettingWithCopyWarning: \n",
            "A value is trying to be set on a copy of a slice from a DataFrame.\n",
            "Try using .loc[row_indexer,col_indexer] = value instead\n",
            "\n",
            "See the caveats in the documentation: https://pandas.pydata.org/pandas-docs/stable/user_guide/indexing.html#returning-a-view-versus-a-copy\n",
            "  id_103819['bp_rate_win'] = id_103819['w_bpSaved']/id_103819['w_bpFaced']\n",
            "<ipython-input-53-007dc4cb3d5e>:16: SettingWithCopyWarning: \n",
            "A value is trying to be set on a copy of a slice from a DataFrame\n",
            "\n",
            "See the caveats in the documentation: https://pandas.pydata.org/pandas-docs/stable/user_guide/indexing.html#returning-a-view-versus-a-copy\n",
            "  id_103819.drop(['tourney_date', 'w_bpSaved', 'w_bpFaced'], axis = 1, inplace = True)\n",
            "<ipython-input-53-007dc4cb3d5e>:18: SettingWithCopyWarning: \n",
            "A value is trying to be set on a copy of a slice from a DataFrame\n",
            "\n",
            "See the caveats in the documentation: https://pandas.pydata.org/pandas-docs/stable/user_guide/indexing.html#returning-a-view-versus-a-copy\n",
            "  id_103819_lose.drop(['tourney_id', 'tourney_name', 'surface', 'draw_size', 'tourney_level',\n",
            "<ipython-input-53-007dc4cb3d5e>:27: SettingWithCopyWarning: \n",
            "A value is trying to be set on a copy of a slice from a DataFrame.\n",
            "Try using .loc[row_indexer,col_indexer] = value instead\n",
            "\n",
            "See the caveats in the documentation: https://pandas.pydata.org/pandas-docs/stable/user_guide/indexing.html#returning-a-view-versus-a-copy\n",
            "  id_103819_lose['year'] = (id_103819_lose['tourney_date']).apply(lambda x: int(str(x)[:4]))\n",
            "<ipython-input-53-007dc4cb3d5e>:28: SettingWithCopyWarning: \n",
            "A value is trying to be set on a copy of a slice from a DataFrame.\n",
            "Try using .loc[row_indexer,col_indexer] = value instead\n",
            "\n",
            "See the caveats in the documentation: https://pandas.pydata.org/pandas-docs/stable/user_guide/indexing.html#returning-a-view-versus-a-copy\n",
            "  id_103819_lose['bp_rate_lose'] = id_103819_lose['l_bpSaved']/id_103819_lose['l_bpFaced']\n",
            "<ipython-input-53-007dc4cb3d5e>:29: SettingWithCopyWarning: \n",
            "A value is trying to be set on a copy of a slice from a DataFrame\n",
            "\n",
            "See the caveats in the documentation: https://pandas.pydata.org/pandas-docs/stable/user_guide/indexing.html#returning-a-view-versus-a-copy\n",
            "  id_103819_lose.drop(['tourney_date', 'l_bpSaved', 'l_bpFaced'], axis = 1, inplace = True)\n"
          ]
        }
      ]
    },
    {
      "cell_type": "code",
      "source": [
        "fin_game_103819"
      ],
      "metadata": {
        "colab": {
          "base_uri": "https://localhost:8080/",
          "height": 424
        },
        "id": "8-8kBu0aSnKq",
        "outputId": "467a6ed4-c470-4a91-e969-3c0392cbe835"
      },
      "execution_count": 54,
      "outputs": [
        {
          "output_type": "execute_result",
          "data": {
            "text/plain": [
              "      year  bp_rate_lose  bp_rate_win\n",
              "500   2009      0.666667     0.000000\n",
              "501   2009      0.666667     0.500000\n",
              "502   2009      0.666667     0.714286\n",
              "503   2009      0.666667     0.600000\n",
              "504   2009      0.666667     1.000000\n",
              "...    ...           ...          ...\n",
              "1232  2021      0.666667     0.333333\n",
              "1233  2021      0.666667     0.750000\n",
              "1234  2021      0.666667     1.000000\n",
              "1235  2021      0.666667     0.500000\n",
              "1236  2021      0.666667     0.666667\n",
              "\n",
              "[737 rows x 3 columns]"
            ],
            "text/html": [
              "\n",
              "  <div id=\"df-792e0388-bb12-44ec-8f02-12fb56cf32c6\" class=\"colab-df-container\">\n",
              "    <div>\n",
              "<style scoped>\n",
              "    .dataframe tbody tr th:only-of-type {\n",
              "        vertical-align: middle;\n",
              "    }\n",
              "\n",
              "    .dataframe tbody tr th {\n",
              "        vertical-align: top;\n",
              "    }\n",
              "\n",
              "    .dataframe thead th {\n",
              "        text-align: right;\n",
              "    }\n",
              "</style>\n",
              "<table border=\"1\" class=\"dataframe\">\n",
              "  <thead>\n",
              "    <tr style=\"text-align: right;\">\n",
              "      <th></th>\n",
              "      <th>year</th>\n",
              "      <th>bp_rate_lose</th>\n",
              "      <th>bp_rate_win</th>\n",
              "    </tr>\n",
              "  </thead>\n",
              "  <tbody>\n",
              "    <tr>\n",
              "      <th>500</th>\n",
              "      <td>2009</td>\n",
              "      <td>0.666667</td>\n",
              "      <td>0.000000</td>\n",
              "    </tr>\n",
              "    <tr>\n",
              "      <th>501</th>\n",
              "      <td>2009</td>\n",
              "      <td>0.666667</td>\n",
              "      <td>0.500000</td>\n",
              "    </tr>\n",
              "    <tr>\n",
              "      <th>502</th>\n",
              "      <td>2009</td>\n",
              "      <td>0.666667</td>\n",
              "      <td>0.714286</td>\n",
              "    </tr>\n",
              "    <tr>\n",
              "      <th>503</th>\n",
              "      <td>2009</td>\n",
              "      <td>0.666667</td>\n",
              "      <td>0.600000</td>\n",
              "    </tr>\n",
              "    <tr>\n",
              "      <th>504</th>\n",
              "      <td>2009</td>\n",
              "      <td>0.666667</td>\n",
              "      <td>1.000000</td>\n",
              "    </tr>\n",
              "    <tr>\n",
              "      <th>...</th>\n",
              "      <td>...</td>\n",
              "      <td>...</td>\n",
              "      <td>...</td>\n",
              "    </tr>\n",
              "    <tr>\n",
              "      <th>1232</th>\n",
              "      <td>2021</td>\n",
              "      <td>0.666667</td>\n",
              "      <td>0.333333</td>\n",
              "    </tr>\n",
              "    <tr>\n",
              "      <th>1233</th>\n",
              "      <td>2021</td>\n",
              "      <td>0.666667</td>\n",
              "      <td>0.750000</td>\n",
              "    </tr>\n",
              "    <tr>\n",
              "      <th>1234</th>\n",
              "      <td>2021</td>\n",
              "      <td>0.666667</td>\n",
              "      <td>1.000000</td>\n",
              "    </tr>\n",
              "    <tr>\n",
              "      <th>1235</th>\n",
              "      <td>2021</td>\n",
              "      <td>0.666667</td>\n",
              "      <td>0.500000</td>\n",
              "    </tr>\n",
              "    <tr>\n",
              "      <th>1236</th>\n",
              "      <td>2021</td>\n",
              "      <td>0.666667</td>\n",
              "      <td>0.666667</td>\n",
              "    </tr>\n",
              "  </tbody>\n",
              "</table>\n",
              "<p>737 rows × 3 columns</p>\n",
              "</div>\n",
              "    <div class=\"colab-df-buttons\">\n",
              "\n",
              "  <div class=\"colab-df-container\">\n",
              "    <button class=\"colab-df-convert\" onclick=\"convertToInteractive('df-792e0388-bb12-44ec-8f02-12fb56cf32c6')\"\n",
              "            title=\"Convert this dataframe to an interactive table.\"\n",
              "            style=\"display:none;\">\n",
              "\n",
              "  <svg xmlns=\"http://www.w3.org/2000/svg\" height=\"24px\" viewBox=\"0 -960 960 960\">\n",
              "    <path d=\"M120-120v-720h720v720H120Zm60-500h600v-160H180v160Zm220 220h160v-160H400v160Zm0 220h160v-160H400v160ZM180-400h160v-160H180v160Zm440 0h160v-160H620v160ZM180-180h160v-160H180v160Zm440 0h160v-160H620v160Z\"/>\n",
              "  </svg>\n",
              "    </button>\n",
              "\n",
              "  <style>\n",
              "    .colab-df-container {\n",
              "      display:flex;\n",
              "      gap: 12px;\n",
              "    }\n",
              "\n",
              "    .colab-df-convert {\n",
              "      background-color: #E8F0FE;\n",
              "      border: none;\n",
              "      border-radius: 50%;\n",
              "      cursor: pointer;\n",
              "      display: none;\n",
              "      fill: #1967D2;\n",
              "      height: 32px;\n",
              "      padding: 0 0 0 0;\n",
              "      width: 32px;\n",
              "    }\n",
              "\n",
              "    .colab-df-convert:hover {\n",
              "      background-color: #E2EBFA;\n",
              "      box-shadow: 0px 1px 2px rgba(60, 64, 67, 0.3), 0px 1px 3px 1px rgba(60, 64, 67, 0.15);\n",
              "      fill: #174EA6;\n",
              "    }\n",
              "\n",
              "    .colab-df-buttons div {\n",
              "      margin-bottom: 4px;\n",
              "    }\n",
              "\n",
              "    [theme=dark] .colab-df-convert {\n",
              "      background-color: #3B4455;\n",
              "      fill: #D2E3FC;\n",
              "    }\n",
              "\n",
              "    [theme=dark] .colab-df-convert:hover {\n",
              "      background-color: #434B5C;\n",
              "      box-shadow: 0px 1px 3px 1px rgba(0, 0, 0, 0.15);\n",
              "      filter: drop-shadow(0px 1px 2px rgba(0, 0, 0, 0.3));\n",
              "      fill: #FFFFFF;\n",
              "    }\n",
              "  </style>\n",
              "\n",
              "    <script>\n",
              "      const buttonEl =\n",
              "        document.querySelector('#df-792e0388-bb12-44ec-8f02-12fb56cf32c6 button.colab-df-convert');\n",
              "      buttonEl.style.display =\n",
              "        google.colab.kernel.accessAllowed ? 'block' : 'none';\n",
              "\n",
              "      async function convertToInteractive(key) {\n",
              "        const element = document.querySelector('#df-792e0388-bb12-44ec-8f02-12fb56cf32c6');\n",
              "        const dataTable =\n",
              "          await google.colab.kernel.invokeFunction('convertToInteractive',\n",
              "                                                    [key], {});\n",
              "        if (!dataTable) return;\n",
              "\n",
              "        const docLinkHtml = 'Like what you see? Visit the ' +\n",
              "          '<a target=\"_blank\" href=https://colab.research.google.com/notebooks/data_table.ipynb>data table notebook</a>'\n",
              "          + ' to learn more about interactive tables.';\n",
              "        element.innerHTML = '';\n",
              "        dataTable['output_type'] = 'display_data';\n",
              "        await google.colab.output.renderOutput(dataTable, element);\n",
              "        const docLink = document.createElement('div');\n",
              "        docLink.innerHTML = docLinkHtml;\n",
              "        element.appendChild(docLink);\n",
              "      }\n",
              "    </script>\n",
              "  </div>\n",
              "\n",
              "\n",
              "<div id=\"df-1b4a863d-e0f8-4201-ad91-b03d3a31aab9\">\n",
              "  <button class=\"colab-df-quickchart\" onclick=\"quickchart('df-1b4a863d-e0f8-4201-ad91-b03d3a31aab9')\"\n",
              "            title=\"Suggest charts\"\n",
              "            style=\"display:none;\">\n",
              "\n",
              "<svg xmlns=\"http://www.w3.org/2000/svg\" height=\"24px\"viewBox=\"0 0 24 24\"\n",
              "     width=\"24px\">\n",
              "    <g>\n",
              "        <path d=\"M19 3H5c-1.1 0-2 .9-2 2v14c0 1.1.9 2 2 2h14c1.1 0 2-.9 2-2V5c0-1.1-.9-2-2-2zM9 17H7v-7h2v7zm4 0h-2V7h2v10zm4 0h-2v-4h2v4z\"/>\n",
              "    </g>\n",
              "</svg>\n",
              "  </button>\n",
              "\n",
              "<style>\n",
              "  .colab-df-quickchart {\n",
              "      --bg-color: #E8F0FE;\n",
              "      --fill-color: #1967D2;\n",
              "      --hover-bg-color: #E2EBFA;\n",
              "      --hover-fill-color: #174EA6;\n",
              "      --disabled-fill-color: #AAA;\n",
              "      --disabled-bg-color: #DDD;\n",
              "  }\n",
              "\n",
              "  [theme=dark] .colab-df-quickchart {\n",
              "      --bg-color: #3B4455;\n",
              "      --fill-color: #D2E3FC;\n",
              "      --hover-bg-color: #434B5C;\n",
              "      --hover-fill-color: #FFFFFF;\n",
              "      --disabled-bg-color: #3B4455;\n",
              "      --disabled-fill-color: #666;\n",
              "  }\n",
              "\n",
              "  .colab-df-quickchart {\n",
              "    background-color: var(--bg-color);\n",
              "    border: none;\n",
              "    border-radius: 50%;\n",
              "    cursor: pointer;\n",
              "    display: none;\n",
              "    fill: var(--fill-color);\n",
              "    height: 32px;\n",
              "    padding: 0;\n",
              "    width: 32px;\n",
              "  }\n",
              "\n",
              "  .colab-df-quickchart:hover {\n",
              "    background-color: var(--hover-bg-color);\n",
              "    box-shadow: 0 1px 2px rgba(60, 64, 67, 0.3), 0 1px 3px 1px rgba(60, 64, 67, 0.15);\n",
              "    fill: var(--button-hover-fill-color);\n",
              "  }\n",
              "\n",
              "  .colab-df-quickchart-complete:disabled,\n",
              "  .colab-df-quickchart-complete:disabled:hover {\n",
              "    background-color: var(--disabled-bg-color);\n",
              "    fill: var(--disabled-fill-color);\n",
              "    box-shadow: none;\n",
              "  }\n",
              "\n",
              "  .colab-df-spinner {\n",
              "    border: 2px solid var(--fill-color);\n",
              "    border-color: transparent;\n",
              "    border-bottom-color: var(--fill-color);\n",
              "    animation:\n",
              "      spin 1s steps(1) infinite;\n",
              "  }\n",
              "\n",
              "  @keyframes spin {\n",
              "    0% {\n",
              "      border-color: transparent;\n",
              "      border-bottom-color: var(--fill-color);\n",
              "      border-left-color: var(--fill-color);\n",
              "    }\n",
              "    20% {\n",
              "      border-color: transparent;\n",
              "      border-left-color: var(--fill-color);\n",
              "      border-top-color: var(--fill-color);\n",
              "    }\n",
              "    30% {\n",
              "      border-color: transparent;\n",
              "      border-left-color: var(--fill-color);\n",
              "      border-top-color: var(--fill-color);\n",
              "      border-right-color: var(--fill-color);\n",
              "    }\n",
              "    40% {\n",
              "      border-color: transparent;\n",
              "      border-right-color: var(--fill-color);\n",
              "      border-top-color: var(--fill-color);\n",
              "    }\n",
              "    60% {\n",
              "      border-color: transparent;\n",
              "      border-right-color: var(--fill-color);\n",
              "    }\n",
              "    80% {\n",
              "      border-color: transparent;\n",
              "      border-right-color: var(--fill-color);\n",
              "      border-bottom-color: var(--fill-color);\n",
              "    }\n",
              "    90% {\n",
              "      border-color: transparent;\n",
              "      border-bottom-color: var(--fill-color);\n",
              "    }\n",
              "  }\n",
              "</style>\n",
              "\n",
              "  <script>\n",
              "    async function quickchart(key) {\n",
              "      const quickchartButtonEl =\n",
              "        document.querySelector('#' + key + ' button');\n",
              "      quickchartButtonEl.disabled = true;  // To prevent multiple clicks.\n",
              "      quickchartButtonEl.classList.add('colab-df-spinner');\n",
              "      try {\n",
              "        const charts = await google.colab.kernel.invokeFunction(\n",
              "            'suggestCharts', [key], {});\n",
              "      } catch (error) {\n",
              "        console.error('Error during call to suggestCharts:', error);\n",
              "      }\n",
              "      quickchartButtonEl.classList.remove('colab-df-spinner');\n",
              "      quickchartButtonEl.classList.add('colab-df-quickchart-complete');\n",
              "    }\n",
              "    (() => {\n",
              "      let quickchartButtonEl =\n",
              "        document.querySelector('#df-1b4a863d-e0f8-4201-ad91-b03d3a31aab9 button');\n",
              "      quickchartButtonEl.style.display =\n",
              "        google.colab.kernel.accessAllowed ? 'block' : 'none';\n",
              "    })();\n",
              "  </script>\n",
              "</div>\n",
              "    </div>\n",
              "  </div>\n"
            ],
            "application/vnd.google.colaboratory.intrinsic+json": {
              "type": "dataframe",
              "variable_name": "fin_game_103819",
              "summary": "{\n  \"name\": \"fin_game_103819\",\n  \"rows\": 737,\n  \"fields\": [\n    {\n      \"column\": \"year\",\n      \"properties\": {\n        \"dtype\": \"category\",\n        \"num_unique_values\": 13,\n        \"samples\": [\n          2020,\n          2018,\n          2009\n        ],\n        \"semantic_type\": \"\",\n        \"description\": \"\"\n      }\n    },\n    {\n      \"column\": \"bp_rate_lose\",\n      \"properties\": {\n        \"dtype\": \"number\",\n        \"std\": 0.11100163882164064,\n        \"min\": 0.3,\n        \"max\": 0.7333333333333333,\n        \"num_unique_values\": 21,\n        \"samples\": [\n          0.6666666666666666,\n          0.5384615384615384,\n          0.4\n        ],\n        \"semantic_type\": \"\",\n        \"description\": \"\"\n      }\n    },\n    {\n      \"column\": \"bp_rate_win\",\n      \"properties\": {\n        \"dtype\": \"number\",\n        \"std\": 0.28453854595382905,\n        \"min\": 0.0,\n        \"max\": 1.0,\n        \"num_unique_values\": 29,\n        \"samples\": [\n          0.7692307692307693,\n          0.7,\n          0.8\n        ],\n        \"semantic_type\": \"\",\n        \"description\": \"\"\n      }\n    }\n  ]\n}"
            }
          },
          "metadata": {},
          "execution_count": 54
        }
      ]
    },
    {
      "cell_type": "code",
      "source": [
        "fig, axes = plt.subplots(1, 2, figsize=(15, 5))\n",
        "\n",
        "sns.boxplot(x = 'year', y = 'bp_rate_lose', data = fin_game_103819, ax=axes[0])\n",
        "sns.boxplot(x = 'year', y = 'bp_rate_win', data = fin_game_103819, ax=axes[1])"
      ],
      "metadata": {
        "colab": {
          "base_uri": "https://localhost:8080/",
          "height": 482
        },
        "id": "NarzuQcoS2bJ",
        "outputId": "47251f82-b7b3-4f75-fef2-f5970b7bf4ef"
      },
      "execution_count": 55,
      "outputs": [
        {
          "output_type": "execute_result",
          "data": {
            "text/plain": [
              "<Axes: xlabel='year', ylabel='bp_rate_win'>"
            ]
          },
          "metadata": {},
          "execution_count": 55
        },
        {
          "output_type": "display_data",
          "data": {
            "text/plain": [
              "<Figure size 1500x500 with 2 Axes>"
            ],
            "image/png": "[encoded data removed]"
          },
          "metadata": {}
        }
      ]
    },
    {
      "cell_type": "code",
      "source": [
        "id_104925 = games_2022[games_2022['winner_id'] == 104925]\n",
        "id_104925.drop(['tourney_id', 'tourney_name', 'surface', 'draw_size', 'tourney_level',\n",
        "       'match_num', 'winner_id', 'winner_seed', 'winner_entry',\n",
        "       'winner_name', 'winner_hand', 'winner_ht', 'winner_ioc', 'winner_age',\n",
        "       'loser_id', 'loser_seed', 'loser_entry', 'loser_name', 'loser_hand',\n",
        "       'loser_ht', 'loser_ioc', 'loser_age', 'score', 'best_of', 'round',\n",
        "       'minutes', 'w_ace', 'w_df', 'w_svpt', 'w_1stIn', 'w_1stWon', 'w_2ndWon',\n",
        "       'w_SvGms', 'l_ace', 'l_df', 'l_svpt', 'l_bpSaved', 'l_bpFaced',\n",
        "       'l_1stIn', 'l_1stWon', 'l_2ndWon', 'l_SvGms',\n",
        "       'winner_rank', 'winner_rank_points', 'loser_rank', 'loser_rank_points', 'score_list' , 'sets'], axis = 1, inplace = True)\n",
        "id_104925['year'] = (id_104925['tourney_date']).apply(lambda x: int(str(x)[:4]))\n",
        "id_104925['bp_rate_win'] = id_104925['w_bpSaved']/id_104925['w_bpFaced']\n",
        "id_104925.drop(['tourney_date', 'w_bpSaved', 'w_bpFaced'], axis = 1, inplace = True)\n",
        "id_104925_lose = games_2022[games_2022['loser_id'] == 104925]\n",
        "id_104925_lose.drop(['tourney_id', 'tourney_name', 'surface', 'draw_size', 'tourney_level',\n",
        "       'match_num', 'winner_id', 'winner_seed', 'winner_entry',\n",
        "       'winner_name', 'winner_hand', 'winner_ht', 'winner_ioc', 'winner_age',\n",
        "       'loser_id', 'loser_seed', 'loser_entry', 'loser_name', 'loser_hand',\n",
        "       'loser_ht', 'loser_ioc', 'loser_age', 'score', 'best_of', 'round',\n",
        "       'minutes', 'w_ace', 'w_df', 'w_svpt', 'w_1stIn', 'w_1stWon', 'w_2ndWon',\n",
        "       'w_SvGms', 'l_ace', 'l_df', 'l_svpt',  'w_bpSaved', 'w_bpFaced',\n",
        "       'l_1stIn', 'l_1stWon', 'l_2ndWon', 'l_SvGms',\n",
        "       'winner_rank', 'winner_rank_points', 'loser_rank', 'loser_rank_points', 'score_list' , 'sets'], axis = 1, inplace = True)\n",
        "id_104925_lose['year'] = (id_104925_lose['tourney_date']).apply(lambda x: int(str(x)[:4]))\n",
        "id_104925_lose['bp_rate_lose'] = id_104925_lose['l_bpSaved']/id_104925_lose['l_bpFaced']\n",
        "id_104925_lose.drop(['tourney_date', 'l_bpSaved', 'l_bpFaced'], axis = 1, inplace = True)\n",
        "fin_game_104925 = id_104925_lose.merge(id_104925, how = 'outer', on = 'year')\n",
        "fin_game_104925 = fin_game_104925[fin_game_104925['year'] > 2008]\n",
        "fin_game_104925['year'] = fin_game_104925['year'].astype('category')"
      ],
      "metadata": {
        "colab": {
          "base_uri": "https://localhost:8080/"
        },
        "id": "vbIYhtFFTckR",
        "outputId": "1a7a646e-4c52-4bb2-92b2-0444e892f26e"
      },
      "execution_count": 56,
      "outputs": [
        {
          "output_type": "stream",
          "name": "stderr",
          "text": [
            "<ipython-input-56-254a7efe2064>:2: SettingWithCopyWarning: \n",
            "A value is trying to be set on a copy of a slice from a DataFrame\n",
            "\n",
            "See the caveats in the documentation: https://pandas.pydata.org/pandas-docs/stable/user_guide/indexing.html#returning-a-view-versus-a-copy\n",
            "  id_104925.drop(['tourney_id', 'tourney_name', 'surface', 'draw_size', 'tourney_level',\n",
            "<ipython-input-56-254a7efe2064>:11: SettingWithCopyWarning: \n",
            "A value is trying to be set on a copy of a slice from a DataFrame.\n",
            "Try using .loc[row_indexer,col_indexer] = value instead\n",
            "\n",
            "See the caveats in the documentation: https://pandas.pydata.org/pandas-docs/stable/user_guide/indexing.html#returning-a-view-versus-a-copy\n",
            "  id_104925['year'] = (id_104925['tourney_date']).apply(lambda x: int(str(x)[:4]))\n",
            "<ipython-input-56-254a7efe2064>:12: SettingWithCopyWarning: \n",
            "A value is trying to be set on a copy of a slice from a DataFrame.\n",
            "Try using .loc[row_indexer,col_indexer] = value instead\n",
            "\n",
            "See the caveats in the documentation: https://pandas.pydata.org/pandas-docs/stable/user_guide/indexing.html#returning-a-view-versus-a-copy\n",
            "  id_104925['bp_rate_win'] = id_104925['w_bpSaved']/id_104925['w_bpFaced']\n",
            "<ipython-input-56-254a7efe2064>:13: SettingWithCopyWarning: \n",
            "A value is trying to be set on a copy of a slice from a DataFrame\n",
            "\n",
            "See the caveats in the documentation: https://pandas.pydata.org/pandas-docs/stable/user_guide/indexing.html#returning-a-view-versus-a-copy\n",
            "  id_104925.drop(['tourney_date', 'w_bpSaved', 'w_bpFaced'], axis = 1, inplace = True)\n",
            "<ipython-input-56-254a7efe2064>:15: SettingWithCopyWarning: \n",
            "A value is trying to be set on a copy of a slice from a DataFrame\n",
            "\n",
            "See the caveats in the documentation: https://pandas.pydata.org/pandas-docs/stable/user_guide/indexing.html#returning-a-view-versus-a-copy\n",
            "  id_104925_lose.drop(['tourney_id', 'tourney_name', 'surface', 'draw_size', 'tourney_level',\n",
            "<ipython-input-56-254a7efe2064>:24: SettingWithCopyWarning: \n",
            "A value is trying to be set on a copy of a slice from a DataFrame.\n",
            "Try using .loc[row_indexer,col_indexer] = value instead\n",
            "\n",
            "See the caveats in the documentation: https://pandas.pydata.org/pandas-docs/stable/user_guide/indexing.html#returning-a-view-versus-a-copy\n",
            "  id_104925_lose['year'] = (id_104925_lose['tourney_date']).apply(lambda x: int(str(x)[:4]))\n",
            "<ipython-input-56-254a7efe2064>:25: SettingWithCopyWarning: \n",
            "A value is trying to be set on a copy of a slice from a DataFrame.\n",
            "Try using .loc[row_indexer,col_indexer] = value instead\n",
            "\n",
            "See the caveats in the documentation: https://pandas.pydata.org/pandas-docs/stable/user_guide/indexing.html#returning-a-view-versus-a-copy\n",
            "  id_104925_lose['bp_rate_lose'] = id_104925_lose['l_bpSaved']/id_104925_lose['l_bpFaced']\n",
            "<ipython-input-56-254a7efe2064>:26: SettingWithCopyWarning: \n",
            "A value is trying to be set on a copy of a slice from a DataFrame\n",
            "\n",
            "See the caveats in the documentation: https://pandas.pydata.org/pandas-docs/stable/user_guide/indexing.html#returning-a-view-versus-a-copy\n",
            "  id_104925_lose.drop(['tourney_date', 'l_bpSaved', 'l_bpFaced'], axis = 1, inplace = True)\n"
          ]
        }
      ]
    },
    {
      "cell_type": "code",
      "source": [
        "fig, axes = plt.subplots(1, 2, figsize=(15, 5))\n",
        "\n",
        "sns.boxplot(x = 'year', y = 'bp_rate_lose', data = fin_game_104925, ax=axes[0])\n",
        "sns.boxplot(x = 'year', y = 'bp_rate_win', data = fin_game_104925, ax=axes[1])"
      ],
      "metadata": {
        "colab": {
          "base_uri": "https://localhost:8080/",
          "height": 482
        },
        "id": "tyjNSY6tV6vD",
        "outputId": "17e535d2-bb55-493c-c640-0f465c2c28b9"
      },
      "execution_count": 57,
      "outputs": [
        {
          "output_type": "execute_result",
          "data": {
            "text/plain": [
              "<Axes: xlabel='year', ylabel='bp_rate_win'>"
            ]
          },
          "metadata": {},
          "execution_count": 57
        },
        {
          "output_type": "display_data",
          "data": {
            "text/plain": [
              "<Figure size 1500x500 with 2 Axes>"
            ],
            "image/png": "[encoded data removed]"
          },
          "metadata": {}
        }
      ]
    },
    {
      "cell_type": "code",
      "source": [
        "id_104745 = games_2022[games_2022['winner_id'] == 104745]\n",
        "id_104745.drop(['tourney_id', 'tourney_name', 'surface', 'draw_size', 'tourney_level',\n",
        "       'match_num', 'winner_id', 'winner_seed', 'winner_entry',\n",
        "       'winner_name', 'winner_hand', 'winner_ht', 'winner_ioc', 'winner_age',\n",
        "       'loser_id', 'loser_seed', 'loser_entry', 'loser_name', 'loser_hand',\n",
        "       'loser_ht', 'loser_ioc', 'loser_age', 'score', 'best_of', 'round',\n",
        "       'minutes', 'w_ace', 'w_df', 'w_svpt', 'w_1stIn', 'w_1stWon', 'w_2ndWon',\n",
        "       'w_SvGms', 'l_ace', 'l_df', 'l_svpt', 'l_bpSaved', 'l_bpFaced',\n",
        "       'l_1stIn', 'l_1stWon', 'l_2ndWon', 'l_SvGms',\n",
        "       'winner_rank', 'winner_rank_points', 'loser_rank', 'loser_rank_points', 'score_list' , 'sets'], axis = 1, inplace = True)\n",
        "id_104745['year'] = (id_104745['tourney_date']).apply(lambda x: int(str(x)[:4]))\n",
        "id_104745['bp_rate_win'] = id_104745['w_bpSaved']/id_104745['w_bpFaced']\n",
        "id_104745.drop(['tourney_date', 'w_bpSaved', 'w_bpFaced'], axis = 1, inplace = True)\n",
        "id_104745_lose = games_2022[games_2022['loser_id'] == 104745]\n",
        "id_104745_lose.drop(['tourney_id', 'tourney_name', 'surface', 'draw_size', 'tourney_level',\n",
        "       'match_num', 'winner_id', 'winner_seed', 'winner_entry',\n",
        "       'winner_name', 'winner_hand', 'winner_ht', 'winner_ioc', 'winner_age',\n",
        "       'loser_id', 'loser_seed', 'loser_entry', 'loser_name', 'loser_hand',\n",
        "       'loser_ht', 'loser_ioc', 'loser_age', 'score', 'best_of', 'round',\n",
        "       'minutes', 'w_ace', 'w_df', 'w_svpt', 'w_1stIn', 'w_1stWon', 'w_2ndWon',\n",
        "       'w_SvGms', 'l_ace', 'l_df', 'l_svpt',  'w_bpSaved', 'w_bpFaced',\n",
        "       'l_1stIn', 'l_1stWon', 'l_2ndWon', 'l_SvGms',\n",
        "       'winner_rank', 'winner_rank_points', 'loser_rank', 'loser_rank_points', 'score_list' , 'sets'], axis = 1, inplace = True)\n",
        "id_104745_lose['year'] = (id_104745_lose['tourney_date']).apply(lambda x: int(str(x)[:4]))\n",
        "id_104745_lose['bp_rate_lose'] = id_104745_lose['l_bpSaved']/id_104745_lose['l_bpFaced']\n",
        "id_104745_lose.drop(['tourney_date', 'l_bpSaved', 'l_bpFaced'], axis = 1, inplace = True)\n",
        "fin_game_104745 = id_104745_lose.merge(id_104745, how = 'outer', on = 'year')\n",
        "fin_game_104745 = fin_game_104745[fin_game_104745['year'] > 2008]\n",
        "fin_game_104745['year'] = fin_game_104745['year'].astype('category')"
      ],
      "metadata": {
        "colab": {
          "base_uri": "https://localhost:8080/"
        },
        "id": "VmLTGD4iWH87",
        "outputId": "ba5bf998-ccc8-4e48-b61b-83bf8c2f4af8"
      },
      "execution_count": 58,
      "outputs": [
        {
          "output_type": "stream",
          "name": "stderr",
          "text": [
            "<ipython-input-58-9664a644a482>:2: SettingWithCopyWarning: \n",
            "A value is trying to be set on a copy of a slice from a DataFrame\n",
            "\n",
            "See the caveats in the documentation: https://pandas.pydata.org/pandas-docs/stable/user_guide/indexing.html#returning-a-view-versus-a-copy\n",
            "  id_104745.drop(['tourney_id', 'tourney_name', 'surface', 'draw_size', 'tourney_level',\n",
            "<ipython-input-58-9664a644a482>:11: SettingWithCopyWarning: \n",
            "A value is trying to be set on a copy of a slice from a DataFrame.\n",
            "Try using .loc[row_indexer,col_indexer] = value instead\n",
            "\n",
            "See the caveats in the documentation: https://pandas.pydata.org/pandas-docs/stable/user_guide/indexing.html#returning-a-view-versus-a-copy\n",
            "  id_104745['year'] = (id_104745['tourney_date']).apply(lambda x: int(str(x)[:4]))\n",
            "<ipython-input-58-9664a644a482>:12: SettingWithCopyWarning: \n",
            "A value is trying to be set on a copy of a slice from a DataFrame.\n",
            "Try using .loc[row_indexer,col_indexer] = value instead\n",
            "\n",
            "See the caveats in the documentation: https://pandas.pydata.org/pandas-docs/stable/user_guide/indexing.html#returning-a-view-versus-a-copy\n",
            "  id_104745['bp_rate_win'] = id_104745['w_bpSaved']/id_104745['w_bpFaced']\n",
            "<ipython-input-58-9664a644a482>:13: SettingWithCopyWarning: \n",
            "A value is trying to be set on a copy of a slice from a DataFrame\n",
            "\n",
            "See the caveats in the documentation: https://pandas.pydata.org/pandas-docs/stable/user_guide/indexing.html#returning-a-view-versus-a-copy\n",
            "  id_104745.drop(['tourney_date', 'w_bpSaved', 'w_bpFaced'], axis = 1, inplace = True)\n",
            "<ipython-input-58-9664a644a482>:15: SettingWithCopyWarning: \n",
            "A value is trying to be set on a copy of a slice from a DataFrame\n",
            "\n",
            "See the caveats in the documentation: https://pandas.pydata.org/pandas-docs/stable/user_guide/indexing.html#returning-a-view-versus-a-copy\n",
            "  id_104745_lose.drop(['tourney_id', 'tourney_name', 'surface', 'draw_size', 'tourney_level',\n",
            "<ipython-input-58-9664a644a482>:24: SettingWithCopyWarning: \n",
            "A value is trying to be set on a copy of a slice from a DataFrame.\n",
            "Try using .loc[row_indexer,col_indexer] = value instead\n",
            "\n",
            "See the caveats in the documentation: https://pandas.pydata.org/pandas-docs/stable/user_guide/indexing.html#returning-a-view-versus-a-copy\n",
            "  id_104745_lose['year'] = (id_104745_lose['tourney_date']).apply(lambda x: int(str(x)[:4]))\n",
            "<ipython-input-58-9664a644a482>:25: SettingWithCopyWarning: \n",
            "A value is trying to be set on a copy of a slice from a DataFrame.\n",
            "Try using .loc[row_indexer,col_indexer] = value instead\n",
            "\n",
            "See the caveats in the documentation: https://pandas.pydata.org/pandas-docs/stable/user_guide/indexing.html#returning-a-view-versus-a-copy\n",
            "  id_104745_lose['bp_rate_lose'] = id_104745_lose['l_bpSaved']/id_104745_lose['l_bpFaced']\n",
            "<ipython-input-58-9664a644a482>:26: SettingWithCopyWarning: \n",
            "A value is trying to be set on a copy of a slice from a DataFrame\n",
            "\n",
            "See the caveats in the documentation: https://pandas.pydata.org/pandas-docs/stable/user_guide/indexing.html#returning-a-view-versus-a-copy\n",
            "  id_104745_lose.drop(['tourney_date', 'l_bpSaved', 'l_bpFaced'], axis = 1, inplace = True)\n"
          ]
        }
      ]
    },
    {
      "cell_type": "code",
      "source": [
        "fig, axes = plt.subplots(1, 2, figsize=(15, 5))\n",
        "\n",
        "sns.boxplot(x = 'year', y = 'bp_rate_lose', data = fin_game_104745, ax=axes[0])\n",
        "sns.boxplot(x = 'year', y = 'bp_rate_win', data = fin_game_104745, ax=axes[1])"
      ],
      "metadata": {
        "colab": {
          "base_uri": "https://localhost:8080/",
          "height": 482
        },
        "id": "Y9PIR2zZW1Go",
        "outputId": "387f056c-daf8-4020-dc36-5279cdfdd3c7"
      },
      "execution_count": 59,
      "outputs": [
        {
          "output_type": "execute_result",
          "data": {
            "text/plain": [
              "<Axes: xlabel='year', ylabel='bp_rate_win'>"
            ]
          },
          "metadata": {},
          "execution_count": 59
        },
        {
          "output_type": "display_data",
          "data": {
            "text/plain": [
              "<Figure size 1500x500 with 2 Axes>"
            ],
            "image/png": "[encoded data removed]"
          },
          "metadata": {}
        }
      ]
    },
    {
      "cell_type": "code",
      "source": [
        "fin_game_103819['year'] = fin_game_103819['year'].apply(lambda x: int(x))\n",
        "lose_103819 = fin_game_103819.groupby('year').agg({'bp_rate_lose':'mean'}).reset_index()\n",
        "win_103819 = fin_game_103819.groupby('year').agg({'bp_rate_win':'mean'}).reset_index()"
      ],
      "metadata": {
        "id": "aulM5s2aXGdq"
      },
      "execution_count": 60,
      "outputs": []
    },
    {
      "cell_type": "code",
      "source": [
        "# Тест Шапиро-Уилка\n",
        "alpha = 0.05\n",
        "_, p = shapiro(lose_103819)\n",
        "print('p=%.3f' % p)"
      ],
      "metadata": {
        "colab": {
          "base_uri": "https://localhost:8080/"
        },
        "id": "fH8TlUvrXhJE",
        "outputId": "fdccaa62-c4a0-4638-8770-3a73aa56c8b1"
      },
      "execution_count": 195,
      "outputs": [
        {
          "output_type": "stream",
          "name": "stdout",
          "text": [
            "p=0.000\n"
          ]
        }
      ]
    },
    {
      "cell_type": "code",
      "source": [
        "alpha = 0.05\n",
        "_, p = shapiro(win_103819)\n",
        "print('p=%.3f' % p)"
      ],
      "metadata": {
        "colab": {
          "base_uri": "https://localhost:8080/"
        },
        "id": "HWUcIXH-XuJl",
        "outputId": "49831a5b-0504-4bbe-8349-3e546059d38e"
      },
      "execution_count": 197,
      "outputs": [
        {
          "output_type": "stream",
          "name": "stdout",
          "text": [
            "p=0.000\n"
          ]
        }
      ]
    },
    {
      "cell_type": "code",
      "source": [
        "#Тест Краскела-Уолиса  для проверки гипотезы о равенстве средних значений нескольких групп\n",
        "lpha = 0.05\n",
        "\n",
        "_, p = stats.kruskal(win_103819['bp_rate_win'], lose_103819['bp_rate_lose'])\n",
        "print('p=%.3f' % p)"
      ],
      "metadata": {
        "colab": {
          "base_uri": "https://localhost:8080/"
        },
        "id": "YZYpK0f9YMxO",
        "outputId": "1b91cdd2-84a2-432e-c871-4a6d3cd181b8"
      },
      "execution_count": 61,
      "outputs": [
        {
          "output_type": "stream",
          "name": "stdout",
          "text": [
            "p=0.001\n"
          ]
        }
      ]
    },
    {
      "cell_type": "code",
      "source": [
        "fin_game_104925['year'] = fin_game_104925['year'].apply(lambda x: int(x))\n",
        "lose_104925 = fin_game_104925.groupby('year').agg({'bp_rate_lose':'mean'}).reset_index()\n",
        "win_104925 = fin_game_104925.groupby('year').agg({'bp_rate_win':'mean'}).reset_index()"
      ],
      "metadata": {
        "id": "LlhODi3LSIS3"
      },
      "execution_count": 62,
      "outputs": []
    },
    {
      "cell_type": "code",
      "source": [
        "alpha = 0.05\n",
        "_, p = shapiro(win_104925)\n",
        "print('p=%.3f' % p)"
      ],
      "metadata": {
        "colab": {
          "base_uri": "https://localhost:8080/"
        },
        "id": "Pp7mP2NiTqtY",
        "outputId": "69b3c927-da16-44a2-ed2b-a3e25351f466"
      },
      "execution_count": 63,
      "outputs": [
        {
          "output_type": "stream",
          "name": "stdout",
          "text": [
            "p=0.000\n"
          ]
        }
      ]
    },
    {
      "cell_type": "code",
      "source": [
        "# Тест Крискела-Уолиса\n",
        "alpha = 0.05\n",
        "\n",
        "_, p = stats.kruskal(win_104925['bp_rate_win'], lose_104925['bp_rate_lose'])\n",
        "print('p=%.3f' % p)"
      ],
      "metadata": {
        "colab": {
          "base_uri": "https://localhost:8080/"
        },
        "id": "-6UMt7qJT5S5",
        "outputId": "b447963a-3765-455a-9f01-dd686b1fc7cf"
      },
      "execution_count": 64,
      "outputs": [
        {
          "output_type": "stream",
          "name": "stdout",
          "text": [
            "p=0.003\n"
          ]
        }
      ]
    },
    {
      "cell_type": "code",
      "source": [
        "fin_game_104745['year'] = fin_game_104745['year'].apply(lambda x: int(x))\n",
        "lose_104745 = fin_game_104745.groupby('year').agg({'bp_rate_lose':'mean'}).reset_index()\n",
        "win_104745 = fin_game_104745.groupby('year').agg({'bp_rate_win':'mean'}).reset_index()"
      ],
      "metadata": {
        "id": "33v2KoB1UOI_"
      },
      "execution_count": 65,
      "outputs": []
    },
    {
      "cell_type": "code",
      "source": [
        "# Тест Шапиро-Уилка\n",
        "\n",
        "alpha = 0.05\n",
        "_, p = shapiro(win_104745)\n",
        "print('p=%.3f' % p)"
      ],
      "metadata": {
        "colab": {
          "base_uri": "https://localhost:8080/"
        },
        "id": "eEw2IhrMUetH",
        "outputId": "66df0291-d07c-4ebd-dd96-fed46b09fb16"
      },
      "execution_count": 66,
      "outputs": [
        {
          "output_type": "stream",
          "name": "stdout",
          "text": [
            "p=0.000\n"
          ]
        }
      ]
    },
    {
      "cell_type": "code",
      "source": [
        "alpha = 0.05\n",
        "_, p = shapiro(lose_104745)\n",
        "print('p=%.3f' % p)"
      ],
      "metadata": {
        "colab": {
          "base_uri": "https://localhost:8080/"
        },
        "id": "WPDJmJ94UrVA",
        "outputId": "045e0f16-4119-4af2-aa65-61dbef18e4b9"
      },
      "execution_count": 67,
      "outputs": [
        {
          "output_type": "stream",
          "name": "stdout",
          "text": [
            "p=0.000\n"
          ]
        }
      ]
    },
    {
      "cell_type": "code",
      "source": [
        "#Тест Краскела-Уолиса\n",
        "\n",
        "alpha = 0.05\n",
        "\n",
        "_, p = stats.kruskal(win_104745['bp_rate_win'], lose_104745['bp_rate_lose'])\n",
        "print('p=%.3f' % p)"
      ],
      "metadata": {
        "colab": {
          "base_uri": "https://localhost:8080/"
        },
        "id": "7frNmsLCUzG8",
        "outputId": "1ec9f302-22e2-4b80-ba5a-482685a8b8d5"
      },
      "execution_count": 68,
      "outputs": [
        {
          "output_type": "stream",
          "name": "stdout",
          "text": [
            "p=0.039\n"
          ]
        }
      ]
    },
    {
      "cell_type": "code",
      "source": [
        "# Результаты игры зависят от того, как распределены выигранные брейкпойнты (отклоняем нулевую гипотезу)\n",
        "#создадим новый признак \"разница брейкпойнтов\", который будет равен числу выигранных брейкпоинтов минус числу проигранных брейкпоинтов для каждого игрока. Этот признак покажет, насколько успешно игрок использует возможности для отбивания соперника и насколько успешно соперники отбивают его брейкпоинты.\n",
        "\n",
        "win_lose_103819 = lose_103819.merge(win_103819, on ='year')\n",
        "win_lose_103819['diff'] = win_lose_103819['bp_rate_win'] - win_lose_103819['bp_rate_lose']\n",
        "win_lose_103819.drop(['bp_rate_lose', 'bp_rate_win'], axis = 1, inplace = True)\n"
      ],
      "metadata": {
        "id": "Qa_q0jQOVM5L"
      },
      "execution_count": 100,
      "outputs": []
    },
    {
      "cell_type": "code",
      "source": [
        "### Ntcn Ifgbhj-Ebkrf\n",
        "alpha = 0.05\n",
        "_, p = shapiro(win_lose_103819)\n",
        "print('p=%.3f' % p)"
      ],
      "metadata": {
        "colab": {
          "base_uri": "https://localhost:8080/"
        },
        "id": "8WA_EIUcVtHQ",
        "outputId": "adb029f4-540b-4e61-d8ea-a5e1ea67683f"
      },
      "execution_count": 71,
      "outputs": [
        {
          "output_type": "stream",
          "name": "stdout",
          "text": [
            "p=0.000\n"
          ]
        }
      ]
    },
    {
      "cell_type": "code",
      "source": [
        "win_lose_104745 = lose_104745.merge(win_104745, on ='year')\n",
        "win_lose_104745['diff'] = win_lose_104745['bp_rate_win'] - win_lose_104745['bp_rate_lose']\n",
        "win_lose_104745.drop(['bp_rate_lose', 'bp_rate_win'], axis = 1, inplace = True)"
      ],
      "metadata": {
        "id": "dCeuoKDdV3Cs"
      },
      "execution_count": 72,
      "outputs": []
    },
    {
      "cell_type": "code",
      "source": [
        "alpha = 0.05\n",
        "_, p = shapiro(win_lose_104745)\n",
        "print('p=%.3f' % p)"
      ],
      "metadata": {
        "colab": {
          "base_uri": "https://localhost:8080/"
        },
        "id": "QqEUXe8XWEFb",
        "outputId": "b7086950-61d3-4277-dbd2-4d4aeb564370"
      },
      "execution_count": 73,
      "outputs": [
        {
          "output_type": "stream",
          "name": "stdout",
          "text": [
            "p=0.000\n"
          ]
        }
      ]
    },
    {
      "cell_type": "code",
      "source": [
        "#Добавляем столбец, который будет содержать разницу.\n",
        "\n",
        "win_lose_104925 = lose_104925.merge(win_104925, on ='year')\n",
        "win_lose_104925['diff'] = win_lose_104925['bp_rate_win'] - win_lose_104925['bp_rate_lose']\n",
        "win_lose_104925.drop(['bp_rate_lose', 'bp_rate_win'], axis = 1, inplace = True)"
      ],
      "metadata": {
        "id": "z42x-bO4WMNk"
      },
      "execution_count": 75,
      "outputs": []
    },
    {
      "cell_type": "code",
      "source": [
        "alpha = 0.05\n",
        "_, p = shapiro(win_lose_104925)\n",
        "print('p=%.3f' % p)"
      ],
      "metadata": {
        "colab": {
          "base_uri": "https://localhost:8080/"
        },
        "id": "1scb7XgbWgoj",
        "outputId": "26a335e4-aed0-4c67-d7aa-cf36f988a9c7"
      },
      "execution_count": 76,
      "outputs": [
        {
          "output_type": "stream",
          "name": "stdout",
          "text": [
            "p=0.000\n"
          ]
        }
      ]
    },
    {
      "cell_type": "code",
      "source": [
        "# Используем тест Вилкоксона для сравнения двух независимых выборок\n",
        "alpha = 0.05\n",
        "\n",
        "_, p = stats.wilcoxon(win_lose_104745['diff'], win_lose_104925['diff'])\n",
        "print(p)"
      ],
      "metadata": {
        "colab": {
          "base_uri": "https://localhost:8080/"
        },
        "id": "6VbpG28qW5Sw",
        "outputId": "4e36fce0-16ac-4f4b-c18d-fb35f29cee41"
      },
      "execution_count": 79,
      "outputs": [
        {
          "output_type": "stream",
          "name": "stdout",
          "text": [
            "0.625732421875\n"
          ]
        }
      ]
    },
    {
      "cell_type": "code",
      "source": [
        "#Средние разницы между выигранными и проигранными брейкпоинтами для игроков 104745 и 104925 одинаковы."
      ],
      "metadata": {
        "id": "O16_v684XXzh"
      },
      "execution_count": null,
      "outputs": []
    },
    {
      "cell_type": "code",
      "source": [
        "# Тест Манна-Уитни\n",
        "\n",
        "alpha = 0.05\n",
        "\n",
        "_, p_value = mannwhitneyu(win_lose_103819['diff'], win_lose_104925['diff'])\n",
        "\n",
        "print('p-value: ', p_value)"
      ],
      "metadata": {
        "colab": {
          "base_uri": "https://localhost:8080/"
        },
        "id": "JLcUdLAiXaw2",
        "outputId": "32a91193-ca93-424b-d662-3c13cee17a90"
      },
      "execution_count": 80,
      "outputs": [
        {
          "output_type": "stream",
          "name": "stdout",
          "text": [
            "p-value:  0.512401349804485\n"
          ]
        }
      ]
    },
    {
      "cell_type": "code",
      "source": [
        "# Нет статистически значимой разницы между средним количеством выигранных брейкпоинтов у игроков 103819 и 104925 в выигранных и проигранных матчах. Поэтому мы принимаем нулевую гипотезу о равенстве средних значений."
      ],
      "metadata": {
        "id": "XFo6hUIdxuLo"
      },
      "execution_count": null,
      "outputs": []
    },
    {
      "cell_type": "code",
      "source": [
        "alpha = 0.05\n",
        "\n",
        "_, p_value = mannwhitneyu(win_lose_104745['diff'], win_lose_104925['diff'])\n",
        "\n",
        "print('p-value: ', p_value)\n",
        "# Проверка статистической значимости различий"
      ],
      "metadata": {
        "colab": {
          "base_uri": "https://localhost:8080/"
        },
        "id": "5jfjYY50Yi7M",
        "outputId": "c95b07a6-eb9a-42b8-ad9b-2e03ad483450"
      },
      "execution_count": 81,
      "outputs": [
        {
          "output_type": "stream",
          "name": "stdout",
          "text": [
            "p-value:  0.47634772226738475\n"
          ]
        }
      ]
    },
    {
      "cell_type": "code",
      "source": [
        "alpha = 0.05\n",
        "\n",
        "_, p_value = mannwhitneyu(win_lose_104745['diff'], win_lose_103819['diff'])\n",
        "\n",
        "print('p-value: ', p_value)"
      ],
      "metadata": {
        "colab": {
          "base_uri": "https://localhost:8080/"
        },
        "id": "IW6yS9gjYwyZ",
        "outputId": "b38c04fd-5db9-4152-c643-99f76b54b654"
      },
      "execution_count": 83,
      "outputs": [
        {
          "output_type": "stream",
          "name": "stdout",
          "text": [
            "p-value:  0.2344826070931848\n"
          ]
        }
      ]
    },
    {
      "cell_type": "markdown",
      "source": [
        "Как распределяются выигранные брейкпоинты влияет на результат игры. На графиках можно заметить, что в матчах, которые победил игрок, выигранные брейкпоинты распределены равномернее, что свидетельствует о его дисциплинированности. Нет значительной разницы между игроками."
      ],
      "metadata": {
        "id": "_gaVB4dGyN4_"
      }
    },
    {
      "cell_type": "code",
      "source": [
        "### Задание 5\n",
        "\n",
        "lose_104925_more_med = lose_104925[lose_104925['bp_rate_lose']> statistics.median(lose_104925['bp_rate_lose'])]\n",
        "lose_104925_less_med = lose_104925[lose_104925['bp_rate_lose']< statistics.median(lose_104925['bp_rate_lose'])]"
      ],
      "metadata": {
        "id": "9wGP8gKuZGsR"
      },
      "execution_count": 92,
      "outputs": []
    },
    {
      "cell_type": "code",
      "source": [
        "win_104925_more_med = win_104925[win_104925['bp_rate_win']> statistics.median(win_104925['bp_rate_win'])]\n",
        "win_104925_less_med = win_104925[win_104925['bp_rate_win']< statistics.median(win_104925['bp_rate_win'])]"
      ],
      "metadata": {
        "id": "GQhf2tj2brHQ"
      },
      "execution_count": 95,
      "outputs": []
    },
    {
      "cell_type": "code",
      "source": [
        "\n",
        "alpha = 0.05\n",
        "_, p = shapiro(win_104925_more_med)\n",
        "print('p=%.3f' % p)"
      ],
      "metadata": {
        "colab": {
          "base_uri": "https://localhost:8080/"
        },
        "id": "-gHBJHJ4aPD3",
        "outputId": "4183ee89-dabc-44fa-b1c9-d9dcea59d802"
      },
      "execution_count": 96,
      "outputs": [
        {
          "output_type": "stream",
          "name": "stdout",
          "text": [
            "p=0.000\n"
          ]
        }
      ]
    },
    {
      "cell_type": "code",
      "source": [
        "# нулевая и альтернативная гипотезы\n",
        "\n",
        "alpha = 0.05\n",
        "\n",
        "_, p_value = mannwhitneyu(win_104925_more_med['bp_rate_win'], lose_104925_more_med['bp_rate_lose'])\n",
        "\n",
        "print('p-value: ', p_value)\n"
      ],
      "metadata": {
        "colab": {
          "base_uri": "https://localhost:8080/"
        },
        "id": "QgHGN5kTafmM",
        "outputId": "9924febd-60cc-441b-8a3e-1e15ddc0c308"
      },
      "execution_count": 97,
      "outputs": [
        {
          "output_type": "stream",
          "name": "stdout",
          "text": [
            "p-value:  0.20862470862470864\n"
          ]
        }
      ]
    },
    {
      "cell_type": "code",
      "source": [
        "# нулевая и альтернативная гипотезы\n",
        "\n",
        "alpha = 0.05\n",
        "\n",
        "_, p_value = mannwhitneyu(win_104925_less_med['bp_rate_win'], lose_104925_less_med['bp_rate_lose'])\n",
        "\n",
        "print('p-value: ', p_value)"
      ],
      "metadata": {
        "colab": {
          "base_uri": "https://localhost:8080/"
        },
        "id": "kXV3xKLDa-oI",
        "outputId": "2b5f93c9-9270-45ce-a4ad-43ca599f3c81"
      },
      "execution_count": 98,
      "outputs": [
        {
          "output_type": "stream",
          "name": "stdout",
          "text": [
            "p-value:  0.0021407097315851212\n"
          ]
        }
      ]
    },
    {
      "cell_type": "markdown",
      "source": [
        "Отвергаем нулевую гипотезу и принимаем альтернативную гипотезу, утверждающую, что существует зависимость между результатом игры и количеством выигранных брейкпоинтов, превышающих медианное значение. Таким образом, можно сделать вывод, что победа в игре зависит от количества брейкпоинтов, превышающих медиану."
      ],
      "metadata": {
        "id": "Xr5qy1HZctG4"
      }
    },
    {
      "cell_type": "markdown",
      "source": [],
      "metadata": {
        "id": "28aOnYhXcrLB"
      }
    }
  ]
}